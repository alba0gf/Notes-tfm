{
 "cells": [
  {
   "cell_type": "markdown",
   "id": "9f59a9cd-cdf1-4492-a25e-a19f4bce7806",
   "metadata": {},
   "source": [
    " # Proyect set up"
   ]
  },
  {
   "cell_type": "code",
   "execution_count": 2,
   "id": "e86756f5-0ad8-4896-9e66-039ac7645302",
   "metadata": {},
   "outputs": [
    {
     "data": {
      "application/javascript": [
       "(function(root) {\n",
       "  function now() {\n",
       "    return new Date();\n",
       "  }\n",
       "\n",
       "  var force = true;\n",
       "\n",
       "  if (typeof root._bokeh_onload_callbacks === \"undefined\" || force === true) {\n",
       "    root._bokeh_onload_callbacks = [];\n",
       "    root._bokeh_is_loading = undefined;\n",
       "  }\n",
       "\n",
       "  if (typeof (root._bokeh_timeout) === \"undefined\" || force === true) {\n",
       "    root._bokeh_timeout = Date.now() + 5000;\n",
       "    root._bokeh_failed_load = false;\n",
       "  }\n",
       "\n",
       "  function run_callbacks() {\n",
       "    try {\n",
       "      root._bokeh_onload_callbacks.forEach(function(callback) {\n",
       "        if (callback != null)\n",
       "          callback();\n",
       "      });\n",
       "    } finally {\n",
       "      delete root._bokeh_onload_callbacks\n",
       "    }\n",
       "    console.debug(\"Bokeh: all callbacks have finished\");\n",
       "  }\n",
       "\n",
       "  function load_libs(css_urls, js_urls, js_modules, callback) {\n",
       "    if (css_urls == null) css_urls = [];\n",
       "    if (js_urls == null) js_urls = [];\n",
       "    if (js_modules == null) js_modules = [];\n",
       "\n",
       "    root._bokeh_onload_callbacks.push(callback);\n",
       "    if (root._bokeh_is_loading > 0) {\n",
       "      console.debug(\"Bokeh: BokehJS is being loaded, scheduling callback at\", now());\n",
       "      return null;\n",
       "    }\n",
       "    if (js_urls.length === 0 && js_modules.length === 0) {\n",
       "      run_callbacks();\n",
       "      return null;\n",
       "    }\n",
       "    console.debug(\"Bokeh: BokehJS not loaded, scheduling load and callback at\", now());\n",
       "\n",
       "    function on_load() {\n",
       "      root._bokeh_is_loading--;\n",
       "      if (root._bokeh_is_loading === 0) {\n",
       "        console.debug(\"Bokeh: all BokehJS libraries/stylesheets loaded\");\n",
       "        run_callbacks()\n",
       "      }\n",
       "    }\n",
       "\n",
       "    function on_error() {\n",
       "      console.error(\"failed to load \" + url);\n",
       "    }\n",
       "\n",
       "    for (var i = 0; i < css_urls.length; i++) {\n",
       "      var url = css_urls[i];\n",
       "      const element = document.createElement(\"link\");\n",
       "      element.onload = on_load;\n",
       "      element.onerror = on_error;\n",
       "      element.rel = \"stylesheet\";\n",
       "      element.type = \"text/css\";\n",
       "      element.href = url;\n",
       "      console.debug(\"Bokeh: injecting link tag for BokehJS stylesheet: \", url);\n",
       "      document.body.appendChild(element);\n",
       "    }\n",
       "\n",
       "    var skip = [];\n",
       "    if (window.requirejs) {\n",
       "      window.requirejs.config({'packages': {}, 'paths': {'plotly': 'https://cdn.plot.ly/plotly-2.18.0.min', 'tabulator': 'https://cdn.jsdelivr.net/npm/tabulator-tables@5.3.2/dist/js/tabulator', 'moment': 'https://cdn.jsdelivr.net/npm/luxon/build/global/luxon.min', 'gridstack': 'https://cdn.jsdelivr.net/npm/gridstack@4.2.5/dist/gridstack-h5', 'notyf': 'https://cdn.jsdelivr.net/npm/notyf@3/notyf.min'}, 'shim': {'gridstack': {'exports': 'GridStack'}}});\n",
       "      require([\"plotly\"], function(Plotly) {\n",
       "\twindow.Plotly = Plotly\n",
       "\ton_load()\n",
       "      })\n",
       "      require([\"tabulator\"], function(Tabulator) {\n",
       "\twindow.Tabulator = Tabulator\n",
       "\ton_load()\n",
       "      })\n",
       "      require([\"moment\"], function(moment) {\n",
       "\twindow.moment = moment\n",
       "\ton_load()\n",
       "      })\n",
       "      require([\"gridstack\"], function(GridStack) {\n",
       "\twindow.GridStack = GridStack\n",
       "\ton_load()\n",
       "      })\n",
       "      require([\"notyf\"], function() {\n",
       "\ton_load()\n",
       "      })\n",
       "      root._bokeh_is_loading = css_urls.length + 5;\n",
       "    } else {\n",
       "      root._bokeh_is_loading = css_urls.length + js_urls.length + js_modules.length;\n",
       "    }    if (((window['Plotly'] !== undefined) && (!(window['Plotly'] instanceof HTMLElement))) || window.requirejs) {\n",
       "      var urls = ['https://cdn.holoviz.org/panel/0.14.4/dist/bundled/plotlyplot/plotly-2.18.0.min.js'];\n",
       "      for (var i = 0; i < urls.length; i++) {\n",
       "        skip.push(urls[i])\n",
       "      }\n",
       "    }    if (((window['Tabulator'] !== undefined) && (!(window['Tabulator'] instanceof HTMLElement))) || window.requirejs) {\n",
       "      var urls = ['https://cdn.holoviz.org/panel/0.14.4/dist/bundled/datatabulator/tabulator-tables@5.3.2/dist/js/tabulator.js'];\n",
       "      for (var i = 0; i < urls.length; i++) {\n",
       "        skip.push(urls[i])\n",
       "      }\n",
       "    }    if (((window['moment'] !== undefined) && (!(window['moment'] instanceof HTMLElement))) || window.requirejs) {\n",
       "      var urls = ['https://cdn.holoviz.org/panel/0.14.4/dist/bundled/datatabulator/luxon/build/global/luxon.min.js'];\n",
       "      for (var i = 0; i < urls.length; i++) {\n",
       "        skip.push(urls[i])\n",
       "      }\n",
       "    }    if (((window['GridStack'] !== undefined) && (!(window['GridStack'] instanceof HTMLElement))) || window.requirejs) {\n",
       "      var urls = ['https://cdn.holoviz.org/panel/0.14.4/dist/bundled/gridstack/gridstack@4.2.5/dist/gridstack-h5.js'];\n",
       "      for (var i = 0; i < urls.length; i++) {\n",
       "        skip.push(urls[i])\n",
       "      }\n",
       "    }    if (((window['Notyf'] !== undefined) && (!(window['Notyf'] instanceof HTMLElement))) || window.requirejs) {\n",
       "      var urls = ['https://cdn.holoviz.org/panel/0.14.4/dist/bundled/notificationarea/notyf@3/notyf.min.js'];\n",
       "      for (var i = 0; i < urls.length; i++) {\n",
       "        skip.push(urls[i])\n",
       "      }\n",
       "    }    for (var i = 0; i < js_urls.length; i++) {\n",
       "      var url = js_urls[i];\n",
       "      if (skip.indexOf(url) >= 0) {\n",
       "\tif (!window.requirejs) {\n",
       "\t  on_load();\n",
       "\t}\n",
       "\tcontinue;\n",
       "      }\n",
       "      var element = document.createElement('script');\n",
       "      element.onload = on_load;\n",
       "      element.onerror = on_error;\n",
       "      element.async = false;\n",
       "      element.src = url;\n",
       "      console.debug(\"Bokeh: injecting script tag for BokehJS library: \", url);\n",
       "      document.head.appendChild(element);\n",
       "    }\n",
       "    for (var i = 0; i < js_modules.length; i++) {\n",
       "      var url = js_modules[i];\n",
       "      if (skip.indexOf(url) >= 0) {\n",
       "\tif (!window.requirejs) {\n",
       "\t  on_load();\n",
       "\t}\n",
       "\tcontinue;\n",
       "      }\n",
       "      var element = document.createElement('script');\n",
       "      element.onload = on_load;\n",
       "      element.onerror = on_error;\n",
       "      element.async = false;\n",
       "      element.src = url;\n",
       "      element.type = \"module\";\n",
       "      console.debug(\"Bokeh: injecting script tag for BokehJS library: \", url);\n",
       "      document.head.appendChild(element);\n",
       "    }\n",
       "    if (!js_urls.length && !js_modules.length) {\n",
       "      on_load()\n",
       "    }\n",
       "  };\n",
       "\n",
       "  function inject_raw_css(css) {\n",
       "    const element = document.createElement(\"style\");\n",
       "    element.appendChild(document.createTextNode(css));\n",
       "    document.body.appendChild(element);\n",
       "  }\n",
       "\n",
       "  var js_urls = [\"https://cdn.holoviz.org/panel/0.14.4/dist/bundled/jquery/jquery.slim.min.js\", \"https://cdn.holoviz.org/panel/0.14.4/dist/bundled/plotlyplot/plotly-2.18.0.min.js\", \"https://cdn.holoviz.org/panel/0.14.4/dist/bundled/datatabulator/tabulator-tables@5.3.2/dist/js/tabulator.js\", \"https://cdn.holoviz.org/panel/0.14.4/dist/bundled/datatabulator/luxon/build/global/luxon.min.js\", \"https://cdn.bokeh.org/bokeh/release/bokeh-2.4.3.min.js\", \"https://cdn.bokeh.org/bokeh/release/bokeh-gl-2.4.3.min.js\", \"https://cdn.bokeh.org/bokeh/release/bokeh-widgets-2.4.3.min.js\", \"https://cdn.bokeh.org/bokeh/release/bokeh-tables-2.4.3.min.js\", \"https://cdn.bokeh.org/bokeh/release/bokeh-mathjax-2.4.3.min.js\", \"https://unpkg.com/@holoviz/panel@0.14.4/dist/panel.min.js\"];\n",
       "  var js_modules = [];\n",
       "  var css_urls = [\"https://cdn.holoviz.org/panel/0.14.4/dist/bundled/datatabulator/tabulator-tables@5.3.2/dist/css/tabulator_simple.min.css\", \"https://cdn.holoviz.org/panel/0.14.4/dist/css/alerts.css\", \"https://cdn.holoviz.org/panel/0.14.4/dist/css/card.css\", \"https://cdn.holoviz.org/panel/0.14.4/dist/css/dataframe.css\", \"https://cdn.holoviz.org/panel/0.14.4/dist/css/debugger.css\", \"https://cdn.holoviz.org/panel/0.14.4/dist/css/json.css\", \"https://cdn.holoviz.org/panel/0.14.4/dist/css/loading.css\", \"https://cdn.holoviz.org/panel/0.14.4/dist/css/markdown.css\", \"https://cdn.holoviz.org/panel/0.14.4/dist/css/widgets.css\"];\n",
       "  var inline_js = [    function(Bokeh) {\n",
       "      inject_raw_css(\"\\n    .bk.pn-loading.arc:before {\\n      background-image: url(\\\"data:image/svg+xml;base64,PHN2ZyB4bWxucz0iaHR0cDovL3d3dy53My5vcmcvMjAwMC9zdmciIHN0eWxlPSJtYXJnaW46IGF1dG87IGJhY2tncm91bmQ6IG5vbmU7IGRpc3BsYXk6IGJsb2NrOyBzaGFwZS1yZW5kZXJpbmc6IGF1dG87IiB2aWV3Qm94PSIwIDAgMTAwIDEwMCIgcHJlc2VydmVBc3BlY3RSYXRpbz0ieE1pZFlNaWQiPiAgPGNpcmNsZSBjeD0iNTAiIGN5PSI1MCIgZmlsbD0ibm9uZSIgc3Ryb2tlPSIjYzNjM2MzIiBzdHJva2Utd2lkdGg9IjEwIiByPSIzNSIgc3Ryb2tlLWRhc2hhcnJheT0iMTY0LjkzMzYxNDMxMzQ2NDE1IDU2Ljk3Nzg3MTQzNzgyMTM4Ij4gICAgPGFuaW1hdGVUcmFuc2Zvcm0gYXR0cmlidXRlTmFtZT0idHJhbnNmb3JtIiB0eXBlPSJyb3RhdGUiIHJlcGVhdENvdW50PSJpbmRlZmluaXRlIiBkdXI9IjFzIiB2YWx1ZXM9IjAgNTAgNTA7MzYwIDUwIDUwIiBrZXlUaW1lcz0iMDsxIj48L2FuaW1hdGVUcmFuc2Zvcm0+ICA8L2NpcmNsZT48L3N2Zz4=\\\");\\n      background-size: auto calc(min(50%, 400px));\\n    }\\n    \");\n",
       "    },    function(Bokeh) {\n",
       "      Bokeh.set_log_level(\"info\");\n",
       "    },\n",
       "function(Bokeh) {} // ensure no trailing comma for IE\n",
       "  ];\n",
       "\n",
       "  function run_inline_js() {\n",
       "    if ((root.Bokeh !== undefined) || (force === true)) {\n",
       "      for (var i = 0; i < inline_js.length; i++) {\n",
       "        inline_js[i].call(root, root.Bokeh);\n",
       "      }} else if (Date.now() < root._bokeh_timeout) {\n",
       "      setTimeout(run_inline_js, 100);\n",
       "    } else if (!root._bokeh_failed_load) {\n",
       "      console.log(\"Bokeh: BokehJS failed to load within specified timeout.\");\n",
       "      root._bokeh_failed_load = true;\n",
       "    }\n",
       "  }\n",
       "\n",
       "  if (root._bokeh_is_loading === 0) {\n",
       "    console.debug(\"Bokeh: BokehJS loaded, going straight to plotting\");\n",
       "    run_inline_js();\n",
       "  } else {\n",
       "    load_libs(css_urls, js_urls, js_modules, function() {\n",
       "      console.debug(\"Bokeh: BokehJS plotting callback run at\", now());\n",
       "      run_inline_js();\n",
       "    });\n",
       "  }\n",
       "}(window));"
      ],
      "application/vnd.holoviews_load.v0+json": "(function(root) {\n  function now() {\n    return new Date();\n  }\n\n  var force = true;\n\n  if (typeof root._bokeh_onload_callbacks === \"undefined\" || force === true) {\n    root._bokeh_onload_callbacks = [];\n    root._bokeh_is_loading = undefined;\n  }\n\n  if (typeof (root._bokeh_timeout) === \"undefined\" || force === true) {\n    root._bokeh_timeout = Date.now() + 5000;\n    root._bokeh_failed_load = false;\n  }\n\n  function run_callbacks() {\n    try {\n      root._bokeh_onload_callbacks.forEach(function(callback) {\n        if (callback != null)\n          callback();\n      });\n    } finally {\n      delete root._bokeh_onload_callbacks\n    }\n    console.debug(\"Bokeh: all callbacks have finished\");\n  }\n\n  function load_libs(css_urls, js_urls, js_modules, callback) {\n    if (css_urls == null) css_urls = [];\n    if (js_urls == null) js_urls = [];\n    if (js_modules == null) js_modules = [];\n\n    root._bokeh_onload_callbacks.push(callback);\n    if (root._bokeh_is_loading > 0) {\n      console.debug(\"Bokeh: BokehJS is being loaded, scheduling callback at\", now());\n      return null;\n    }\n    if (js_urls.length === 0 && js_modules.length === 0) {\n      run_callbacks();\n      return null;\n    }\n    console.debug(\"Bokeh: BokehJS not loaded, scheduling load and callback at\", now());\n\n    function on_load() {\n      root._bokeh_is_loading--;\n      if (root._bokeh_is_loading === 0) {\n        console.debug(\"Bokeh: all BokehJS libraries/stylesheets loaded\");\n        run_callbacks()\n      }\n    }\n\n    function on_error() {\n      console.error(\"failed to load \" + url);\n    }\n\n    for (var i = 0; i < css_urls.length; i++) {\n      var url = css_urls[i];\n      const element = document.createElement(\"link\");\n      element.onload = on_load;\n      element.onerror = on_error;\n      element.rel = \"stylesheet\";\n      element.type = \"text/css\";\n      element.href = url;\n      console.debug(\"Bokeh: injecting link tag for BokehJS stylesheet: \", url);\n      document.body.appendChild(element);\n    }\n\n    var skip = [];\n    if (window.requirejs) {\n      window.requirejs.config({'packages': {}, 'paths': {'plotly': 'https://cdn.plot.ly/plotly-2.18.0.min', 'tabulator': 'https://cdn.jsdelivr.net/npm/tabulator-tables@5.3.2/dist/js/tabulator', 'moment': 'https://cdn.jsdelivr.net/npm/luxon/build/global/luxon.min', 'gridstack': 'https://cdn.jsdelivr.net/npm/gridstack@4.2.5/dist/gridstack-h5', 'notyf': 'https://cdn.jsdelivr.net/npm/notyf@3/notyf.min'}, 'shim': {'gridstack': {'exports': 'GridStack'}}});\n      require([\"plotly\"], function(Plotly) {\n\twindow.Plotly = Plotly\n\ton_load()\n      })\n      require([\"tabulator\"], function(Tabulator) {\n\twindow.Tabulator = Tabulator\n\ton_load()\n      })\n      require([\"moment\"], function(moment) {\n\twindow.moment = moment\n\ton_load()\n      })\n      require([\"gridstack\"], function(GridStack) {\n\twindow.GridStack = GridStack\n\ton_load()\n      })\n      require([\"notyf\"], function() {\n\ton_load()\n      })\n      root._bokeh_is_loading = css_urls.length + 5;\n    } else {\n      root._bokeh_is_loading = css_urls.length + js_urls.length + js_modules.length;\n    }    if (((window['Plotly'] !== undefined) && (!(window['Plotly'] instanceof HTMLElement))) || window.requirejs) {\n      var urls = ['https://cdn.holoviz.org/panel/0.14.4/dist/bundled/plotlyplot/plotly-2.18.0.min.js'];\n      for (var i = 0; i < urls.length; i++) {\n        skip.push(urls[i])\n      }\n    }    if (((window['Tabulator'] !== undefined) && (!(window['Tabulator'] instanceof HTMLElement))) || window.requirejs) {\n      var urls = ['https://cdn.holoviz.org/panel/0.14.4/dist/bundled/datatabulator/tabulator-tables@5.3.2/dist/js/tabulator.js'];\n      for (var i = 0; i < urls.length; i++) {\n        skip.push(urls[i])\n      }\n    }    if (((window['moment'] !== undefined) && (!(window['moment'] instanceof HTMLElement))) || window.requirejs) {\n      var urls = ['https://cdn.holoviz.org/panel/0.14.4/dist/bundled/datatabulator/luxon/build/global/luxon.min.js'];\n      for (var i = 0; i < urls.length; i++) {\n        skip.push(urls[i])\n      }\n    }    if (((window['GridStack'] !== undefined) && (!(window['GridStack'] instanceof HTMLElement))) || window.requirejs) {\n      var urls = ['https://cdn.holoviz.org/panel/0.14.4/dist/bundled/gridstack/gridstack@4.2.5/dist/gridstack-h5.js'];\n      for (var i = 0; i < urls.length; i++) {\n        skip.push(urls[i])\n      }\n    }    if (((window['Notyf'] !== undefined) && (!(window['Notyf'] instanceof HTMLElement))) || window.requirejs) {\n      var urls = ['https://cdn.holoviz.org/panel/0.14.4/dist/bundled/notificationarea/notyf@3/notyf.min.js'];\n      for (var i = 0; i < urls.length; i++) {\n        skip.push(urls[i])\n      }\n    }    for (var i = 0; i < js_urls.length; i++) {\n      var url = js_urls[i];\n      if (skip.indexOf(url) >= 0) {\n\tif (!window.requirejs) {\n\t  on_load();\n\t}\n\tcontinue;\n      }\n      var element = document.createElement('script');\n      element.onload = on_load;\n      element.onerror = on_error;\n      element.async = false;\n      element.src = url;\n      console.debug(\"Bokeh: injecting script tag for BokehJS library: \", url);\n      document.head.appendChild(element);\n    }\n    for (var i = 0; i < js_modules.length; i++) {\n      var url = js_modules[i];\n      if (skip.indexOf(url) >= 0) {\n\tif (!window.requirejs) {\n\t  on_load();\n\t}\n\tcontinue;\n      }\n      var element = document.createElement('script');\n      element.onload = on_load;\n      element.onerror = on_error;\n      element.async = false;\n      element.src = url;\n      element.type = \"module\";\n      console.debug(\"Bokeh: injecting script tag for BokehJS library: \", url);\n      document.head.appendChild(element);\n    }\n    if (!js_urls.length && !js_modules.length) {\n      on_load()\n    }\n  };\n\n  function inject_raw_css(css) {\n    const element = document.createElement(\"style\");\n    element.appendChild(document.createTextNode(css));\n    document.body.appendChild(element);\n  }\n\n  var js_urls = [\"https://cdn.holoviz.org/panel/0.14.4/dist/bundled/jquery/jquery.slim.min.js\", \"https://cdn.holoviz.org/panel/0.14.4/dist/bundled/plotlyplot/plotly-2.18.0.min.js\", \"https://cdn.holoviz.org/panel/0.14.4/dist/bundled/datatabulator/tabulator-tables@5.3.2/dist/js/tabulator.js\", \"https://cdn.holoviz.org/panel/0.14.4/dist/bundled/datatabulator/luxon/build/global/luxon.min.js\", \"https://cdn.bokeh.org/bokeh/release/bokeh-2.4.3.min.js\", \"https://cdn.bokeh.org/bokeh/release/bokeh-gl-2.4.3.min.js\", \"https://cdn.bokeh.org/bokeh/release/bokeh-widgets-2.4.3.min.js\", \"https://cdn.bokeh.org/bokeh/release/bokeh-tables-2.4.3.min.js\", \"https://cdn.bokeh.org/bokeh/release/bokeh-mathjax-2.4.3.min.js\", \"https://unpkg.com/@holoviz/panel@0.14.4/dist/panel.min.js\"];\n  var js_modules = [];\n  var css_urls = [\"https://cdn.holoviz.org/panel/0.14.4/dist/bundled/datatabulator/tabulator-tables@5.3.2/dist/css/tabulator_simple.min.css\", \"https://cdn.holoviz.org/panel/0.14.4/dist/css/alerts.css\", \"https://cdn.holoviz.org/panel/0.14.4/dist/css/card.css\", \"https://cdn.holoviz.org/panel/0.14.4/dist/css/dataframe.css\", \"https://cdn.holoviz.org/panel/0.14.4/dist/css/debugger.css\", \"https://cdn.holoviz.org/panel/0.14.4/dist/css/json.css\", \"https://cdn.holoviz.org/panel/0.14.4/dist/css/loading.css\", \"https://cdn.holoviz.org/panel/0.14.4/dist/css/markdown.css\", \"https://cdn.holoviz.org/panel/0.14.4/dist/css/widgets.css\"];\n  var inline_js = [    function(Bokeh) {\n      inject_raw_css(\"\\n    .bk.pn-loading.arc:before {\\n      background-image: url(\\\"data:image/svg+xml;base64,PHN2ZyB4bWxucz0iaHR0cDovL3d3dy53My5vcmcvMjAwMC9zdmciIHN0eWxlPSJtYXJnaW46IGF1dG87IGJhY2tncm91bmQ6IG5vbmU7IGRpc3BsYXk6IGJsb2NrOyBzaGFwZS1yZW5kZXJpbmc6IGF1dG87IiB2aWV3Qm94PSIwIDAgMTAwIDEwMCIgcHJlc2VydmVBc3BlY3RSYXRpbz0ieE1pZFlNaWQiPiAgPGNpcmNsZSBjeD0iNTAiIGN5PSI1MCIgZmlsbD0ibm9uZSIgc3Ryb2tlPSIjYzNjM2MzIiBzdHJva2Utd2lkdGg9IjEwIiByPSIzNSIgc3Ryb2tlLWRhc2hhcnJheT0iMTY0LjkzMzYxNDMxMzQ2NDE1IDU2Ljk3Nzg3MTQzNzgyMTM4Ij4gICAgPGFuaW1hdGVUcmFuc2Zvcm0gYXR0cmlidXRlTmFtZT0idHJhbnNmb3JtIiB0eXBlPSJyb3RhdGUiIHJlcGVhdENvdW50PSJpbmRlZmluaXRlIiBkdXI9IjFzIiB2YWx1ZXM9IjAgNTAgNTA7MzYwIDUwIDUwIiBrZXlUaW1lcz0iMDsxIj48L2FuaW1hdGVUcmFuc2Zvcm0+ICA8L2NpcmNsZT48L3N2Zz4=\\\");\\n      background-size: auto calc(min(50%, 400px));\\n    }\\n    \");\n    },    function(Bokeh) {\n      Bokeh.set_log_level(\"info\");\n    },\nfunction(Bokeh) {} // ensure no trailing comma for IE\n  ];\n\n  function run_inline_js() {\n    if ((root.Bokeh !== undefined) || (force === true)) {\n      for (var i = 0; i < inline_js.length; i++) {\n        inline_js[i].call(root, root.Bokeh);\n      }} else if (Date.now() < root._bokeh_timeout) {\n      setTimeout(run_inline_js, 100);\n    } else if (!root._bokeh_failed_load) {\n      console.log(\"Bokeh: BokehJS failed to load within specified timeout.\");\n      root._bokeh_failed_load = true;\n    }\n  }\n\n  if (root._bokeh_is_loading === 0) {\n    console.debug(\"Bokeh: BokehJS loaded, going straight to plotting\");\n    run_inline_js();\n  } else {\n    load_libs(css_urls, js_urls, js_modules, function() {\n      console.debug(\"Bokeh: BokehJS plotting callback run at\", now());\n      run_inline_js();\n    });\n  }\n}(window));"
     },
     "metadata": {},
     "output_type": "display_data"
    },
    {
     "data": {
      "application/javascript": [
       "\n",
       "if ((window.PyViz === undefined) || (window.PyViz instanceof HTMLElement)) {\n",
       "  window.PyViz = {comms: {}, comm_status:{}, kernels:{}, receivers: {}, plot_index: []}\n",
       "}\n",
       "\n",
       "\n",
       "    function JupyterCommManager() {\n",
       "    }\n",
       "\n",
       "    JupyterCommManager.prototype.register_target = function(plot_id, comm_id, msg_handler) {\n",
       "      if (window.comm_manager || ((window.Jupyter !== undefined) && (Jupyter.notebook.kernel != null))) {\n",
       "        var comm_manager = window.comm_manager || Jupyter.notebook.kernel.comm_manager;\n",
       "        comm_manager.register_target(comm_id, function(comm) {\n",
       "          comm.on_msg(msg_handler);\n",
       "        });\n",
       "      } else if ((plot_id in window.PyViz.kernels) && (window.PyViz.kernels[plot_id])) {\n",
       "        window.PyViz.kernels[plot_id].registerCommTarget(comm_id, function(comm) {\n",
       "          comm.onMsg = msg_handler;\n",
       "        });\n",
       "      } else if (typeof google != 'undefined' && google.colab.kernel != null) {\n",
       "        google.colab.kernel.comms.registerTarget(comm_id, (comm) => {\n",
       "          var messages = comm.messages[Symbol.asyncIterator]();\n",
       "          function processIteratorResult(result) {\n",
       "            var message = result.value;\n",
       "            console.log(message)\n",
       "            var content = {data: message.data, comm_id};\n",
       "            var buffers = []\n",
       "            for (var buffer of message.buffers || []) {\n",
       "              buffers.push(new DataView(buffer))\n",
       "            }\n",
       "            var metadata = message.metadata || {};\n",
       "            var msg = {content, buffers, metadata}\n",
       "            msg_handler(msg);\n",
       "            return messages.next().then(processIteratorResult);\n",
       "          }\n",
       "          return messages.next().then(processIteratorResult);\n",
       "        })\n",
       "      }\n",
       "    }\n",
       "\n",
       "    JupyterCommManager.prototype.get_client_comm = function(plot_id, comm_id, msg_handler) {\n",
       "      if (comm_id in window.PyViz.comms) {\n",
       "        return window.PyViz.comms[comm_id];\n",
       "      } else if (window.comm_manager || ((window.Jupyter !== undefined) && (Jupyter.notebook.kernel != null))) {\n",
       "        var comm_manager = window.comm_manager || Jupyter.notebook.kernel.comm_manager;\n",
       "        var comm = comm_manager.new_comm(comm_id, {}, {}, {}, comm_id);\n",
       "        if (msg_handler) {\n",
       "          comm.on_msg(msg_handler);\n",
       "        }\n",
       "      } else if ((plot_id in window.PyViz.kernels) && (window.PyViz.kernels[plot_id])) {\n",
       "        var comm = window.PyViz.kernels[plot_id].connectToComm(comm_id);\n",
       "        comm.open();\n",
       "        if (msg_handler) {\n",
       "          comm.onMsg = msg_handler;\n",
       "        }\n",
       "      } else if (typeof google != 'undefined' && google.colab.kernel != null) {\n",
       "        var comm_promise = google.colab.kernel.comms.open(comm_id)\n",
       "        comm_promise.then((comm) => {\n",
       "          window.PyViz.comms[comm_id] = comm;\n",
       "          if (msg_handler) {\n",
       "            var messages = comm.messages[Symbol.asyncIterator]();\n",
       "            function processIteratorResult(result) {\n",
       "              var message = result.value;\n",
       "              var content = {data: message.data};\n",
       "              var metadata = message.metadata || {comm_id};\n",
       "              var msg = {content, metadata}\n",
       "              msg_handler(msg);\n",
       "              return messages.next().then(processIteratorResult);\n",
       "            }\n",
       "            return messages.next().then(processIteratorResult);\n",
       "          }\n",
       "        }) \n",
       "        var sendClosure = (data, metadata, buffers, disposeOnDone) => {\n",
       "          return comm_promise.then((comm) => {\n",
       "            comm.send(data, metadata, buffers, disposeOnDone);\n",
       "          });\n",
       "        };\n",
       "        var comm = {\n",
       "          send: sendClosure\n",
       "        };\n",
       "      }\n",
       "      window.PyViz.comms[comm_id] = comm;\n",
       "      return comm;\n",
       "    }\n",
       "    window.PyViz.comm_manager = new JupyterCommManager();\n",
       "    \n",
       "\n",
       "\n",
       "var JS_MIME_TYPE = 'application/javascript';\n",
       "var HTML_MIME_TYPE = 'text/html';\n",
       "var EXEC_MIME_TYPE = 'application/vnd.holoviews_exec.v0+json';\n",
       "var CLASS_NAME = 'output';\n",
       "\n",
       "/**\n",
       " * Render data to the DOM node\n",
       " */\n",
       "function render(props, node) {\n",
       "  var div = document.createElement(\"div\");\n",
       "  var script = document.createElement(\"script\");\n",
       "  node.appendChild(div);\n",
       "  node.appendChild(script);\n",
       "}\n",
       "\n",
       "/**\n",
       " * Handle when a new output is added\n",
       " */\n",
       "function handle_add_output(event, handle) {\n",
       "  var output_area = handle.output_area;\n",
       "  var output = handle.output;\n",
       "  if ((output.data == undefined) || (!output.data.hasOwnProperty(EXEC_MIME_TYPE))) {\n",
       "    return\n",
       "  }\n",
       "  var id = output.metadata[EXEC_MIME_TYPE][\"id\"];\n",
       "  var toinsert = output_area.element.find(\".\" + CLASS_NAME.split(' ')[0]);\n",
       "  if (id !== undefined) {\n",
       "    var nchildren = toinsert.length;\n",
       "    var html_node = toinsert[nchildren-1].children[0];\n",
       "    html_node.innerHTML = output.data[HTML_MIME_TYPE];\n",
       "    var scripts = [];\n",
       "    var nodelist = html_node.querySelectorAll(\"script\");\n",
       "    for (var i in nodelist) {\n",
       "      if (nodelist.hasOwnProperty(i)) {\n",
       "        scripts.push(nodelist[i])\n",
       "      }\n",
       "    }\n",
       "\n",
       "    scripts.forEach( function (oldScript) {\n",
       "      var newScript = document.createElement(\"script\");\n",
       "      var attrs = [];\n",
       "      var nodemap = oldScript.attributes;\n",
       "      for (var j in nodemap) {\n",
       "        if (nodemap.hasOwnProperty(j)) {\n",
       "          attrs.push(nodemap[j])\n",
       "        }\n",
       "      }\n",
       "      attrs.forEach(function(attr) { newScript.setAttribute(attr.name, attr.value) });\n",
       "      newScript.appendChild(document.createTextNode(oldScript.innerHTML));\n",
       "      oldScript.parentNode.replaceChild(newScript, oldScript);\n",
       "    });\n",
       "    if (JS_MIME_TYPE in output.data) {\n",
       "      toinsert[nchildren-1].children[1].textContent = output.data[JS_MIME_TYPE];\n",
       "    }\n",
       "    output_area._hv_plot_id = id;\n",
       "    if ((window.Bokeh !== undefined) && (id in Bokeh.index)) {\n",
       "      window.PyViz.plot_index[id] = Bokeh.index[id];\n",
       "    } else {\n",
       "      window.PyViz.plot_index[id] = null;\n",
       "    }\n",
       "  } else if (output.metadata[EXEC_MIME_TYPE][\"server_id\"] !== undefined) {\n",
       "    var bk_div = document.createElement(\"div\");\n",
       "    bk_div.innerHTML = output.data[HTML_MIME_TYPE];\n",
       "    var script_attrs = bk_div.children[0].attributes;\n",
       "    for (var i = 0; i < script_attrs.length; i++) {\n",
       "      toinsert[toinsert.length - 1].childNodes[1].setAttribute(script_attrs[i].name, script_attrs[i].value);\n",
       "    }\n",
       "    // store reference to server id on output_area\n",
       "    output_area._bokeh_server_id = output.metadata[EXEC_MIME_TYPE][\"server_id\"];\n",
       "  }\n",
       "}\n",
       "\n",
       "/**\n",
       " * Handle when an output is cleared or removed\n",
       " */\n",
       "function handle_clear_output(event, handle) {\n",
       "  var id = handle.cell.output_area._hv_plot_id;\n",
       "  var server_id = handle.cell.output_area._bokeh_server_id;\n",
       "  if (((id === undefined) || !(id in PyViz.plot_index)) && (server_id !== undefined)) { return; }\n",
       "  var comm = window.PyViz.comm_manager.get_client_comm(\"hv-extension-comm\", \"hv-extension-comm\", function () {});\n",
       "  if (server_id !== null) {\n",
       "    comm.send({event_type: 'server_delete', 'id': server_id});\n",
       "    return;\n",
       "  } else if (comm !== null) {\n",
       "    comm.send({event_type: 'delete', 'id': id});\n",
       "  }\n",
       "  delete PyViz.plot_index[id];\n",
       "  if ((window.Bokeh !== undefined) & (id in window.Bokeh.index)) {\n",
       "    var doc = window.Bokeh.index[id].model.document\n",
       "    doc.clear();\n",
       "    const i = window.Bokeh.documents.indexOf(doc);\n",
       "    if (i > -1) {\n",
       "      window.Bokeh.documents.splice(i, 1);\n",
       "    }\n",
       "  }\n",
       "}\n",
       "\n",
       "/**\n",
       " * Handle kernel restart event\n",
       " */\n",
       "function handle_kernel_cleanup(event, handle) {\n",
       "  delete PyViz.comms[\"hv-extension-comm\"];\n",
       "  window.PyViz.plot_index = {}\n",
       "}\n",
       "\n",
       "/**\n",
       " * Handle update_display_data messages\n",
       " */\n",
       "function handle_update_output(event, handle) {\n",
       "  handle_clear_output(event, {cell: {output_area: handle.output_area}})\n",
       "  handle_add_output(event, handle)\n",
       "}\n",
       "\n",
       "function register_renderer(events, OutputArea) {\n",
       "  function append_mime(data, metadata, element) {\n",
       "    // create a DOM node to render to\n",
       "    var toinsert = this.create_output_subarea(\n",
       "    metadata,\n",
       "    CLASS_NAME,\n",
       "    EXEC_MIME_TYPE\n",
       "    );\n",
       "    this.keyboard_manager.register_events(toinsert);\n",
       "    // Render to node\n",
       "    var props = {data: data, metadata: metadata[EXEC_MIME_TYPE]};\n",
       "    render(props, toinsert[0]);\n",
       "    element.append(toinsert);\n",
       "    return toinsert\n",
       "  }\n",
       "\n",
       "  events.on('output_added.OutputArea', handle_add_output);\n",
       "  events.on('output_updated.OutputArea', handle_update_output);\n",
       "  events.on('clear_output.CodeCell', handle_clear_output);\n",
       "  events.on('delete.Cell', handle_clear_output);\n",
       "  events.on('kernel_ready.Kernel', handle_kernel_cleanup);\n",
       "\n",
       "  OutputArea.prototype.register_mime_type(EXEC_MIME_TYPE, append_mime, {\n",
       "    safe: true,\n",
       "    index: 0\n",
       "  });\n",
       "}\n",
       "\n",
       "if (window.Jupyter !== undefined) {\n",
       "  try {\n",
       "    var events = require('base/js/events');\n",
       "    var OutputArea = require('notebook/js/outputarea').OutputArea;\n",
       "    if (OutputArea.prototype.mime_types().indexOf(EXEC_MIME_TYPE) == -1) {\n",
       "      register_renderer(events, OutputArea);\n",
       "    }\n",
       "  } catch(err) {\n",
       "  }\n",
       "}\n"
      ],
      "application/vnd.holoviews_load.v0+json": "\nif ((window.PyViz === undefined) || (window.PyViz instanceof HTMLElement)) {\n  window.PyViz = {comms: {}, comm_status:{}, kernels:{}, receivers: {}, plot_index: []}\n}\n\n\n    function JupyterCommManager() {\n    }\n\n    JupyterCommManager.prototype.register_target = function(plot_id, comm_id, msg_handler) {\n      if (window.comm_manager || ((window.Jupyter !== undefined) && (Jupyter.notebook.kernel != null))) {\n        var comm_manager = window.comm_manager || Jupyter.notebook.kernel.comm_manager;\n        comm_manager.register_target(comm_id, function(comm) {\n          comm.on_msg(msg_handler);\n        });\n      } else if ((plot_id in window.PyViz.kernels) && (window.PyViz.kernels[plot_id])) {\n        window.PyViz.kernels[plot_id].registerCommTarget(comm_id, function(comm) {\n          comm.onMsg = msg_handler;\n        });\n      } else if (typeof google != 'undefined' && google.colab.kernel != null) {\n        google.colab.kernel.comms.registerTarget(comm_id, (comm) => {\n          var messages = comm.messages[Symbol.asyncIterator]();\n          function processIteratorResult(result) {\n            var message = result.value;\n            console.log(message)\n            var content = {data: message.data, comm_id};\n            var buffers = []\n            for (var buffer of message.buffers || []) {\n              buffers.push(new DataView(buffer))\n            }\n            var metadata = message.metadata || {};\n            var msg = {content, buffers, metadata}\n            msg_handler(msg);\n            return messages.next().then(processIteratorResult);\n          }\n          return messages.next().then(processIteratorResult);\n        })\n      }\n    }\n\n    JupyterCommManager.prototype.get_client_comm = function(plot_id, comm_id, msg_handler) {\n      if (comm_id in window.PyViz.comms) {\n        return window.PyViz.comms[comm_id];\n      } else if (window.comm_manager || ((window.Jupyter !== undefined) && (Jupyter.notebook.kernel != null))) {\n        var comm_manager = window.comm_manager || Jupyter.notebook.kernel.comm_manager;\n        var comm = comm_manager.new_comm(comm_id, {}, {}, {}, comm_id);\n        if (msg_handler) {\n          comm.on_msg(msg_handler);\n        }\n      } else if ((plot_id in window.PyViz.kernels) && (window.PyViz.kernels[plot_id])) {\n        var comm = window.PyViz.kernels[plot_id].connectToComm(comm_id);\n        comm.open();\n        if (msg_handler) {\n          comm.onMsg = msg_handler;\n        }\n      } else if (typeof google != 'undefined' && google.colab.kernel != null) {\n        var comm_promise = google.colab.kernel.comms.open(comm_id)\n        comm_promise.then((comm) => {\n          window.PyViz.comms[comm_id] = comm;\n          if (msg_handler) {\n            var messages = comm.messages[Symbol.asyncIterator]();\n            function processIteratorResult(result) {\n              var message = result.value;\n              var content = {data: message.data};\n              var metadata = message.metadata || {comm_id};\n              var msg = {content, metadata}\n              msg_handler(msg);\n              return messages.next().then(processIteratorResult);\n            }\n            return messages.next().then(processIteratorResult);\n          }\n        }) \n        var sendClosure = (data, metadata, buffers, disposeOnDone) => {\n          return comm_promise.then((comm) => {\n            comm.send(data, metadata, buffers, disposeOnDone);\n          });\n        };\n        var comm = {\n          send: sendClosure\n        };\n      }\n      window.PyViz.comms[comm_id] = comm;\n      return comm;\n    }\n    window.PyViz.comm_manager = new JupyterCommManager();\n    \n\n\nvar JS_MIME_TYPE = 'application/javascript';\nvar HTML_MIME_TYPE = 'text/html';\nvar EXEC_MIME_TYPE = 'application/vnd.holoviews_exec.v0+json';\nvar CLASS_NAME = 'output';\n\n/**\n * Render data to the DOM node\n */\nfunction render(props, node) {\n  var div = document.createElement(\"div\");\n  var script = document.createElement(\"script\");\n  node.appendChild(div);\n  node.appendChild(script);\n}\n\n/**\n * Handle when a new output is added\n */\nfunction handle_add_output(event, handle) {\n  var output_area = handle.output_area;\n  var output = handle.output;\n  if ((output.data == undefined) || (!output.data.hasOwnProperty(EXEC_MIME_TYPE))) {\n    return\n  }\n  var id = output.metadata[EXEC_MIME_TYPE][\"id\"];\n  var toinsert = output_area.element.find(\".\" + CLASS_NAME.split(' ')[0]);\n  if (id !== undefined) {\n    var nchildren = toinsert.length;\n    var html_node = toinsert[nchildren-1].children[0];\n    html_node.innerHTML = output.data[HTML_MIME_TYPE];\n    var scripts = [];\n    var nodelist = html_node.querySelectorAll(\"script\");\n    for (var i in nodelist) {\n      if (nodelist.hasOwnProperty(i)) {\n        scripts.push(nodelist[i])\n      }\n    }\n\n    scripts.forEach( function (oldScript) {\n      var newScript = document.createElement(\"script\");\n      var attrs = [];\n      var nodemap = oldScript.attributes;\n      for (var j in nodemap) {\n        if (nodemap.hasOwnProperty(j)) {\n          attrs.push(nodemap[j])\n        }\n      }\n      attrs.forEach(function(attr) { newScript.setAttribute(attr.name, attr.value) });\n      newScript.appendChild(document.createTextNode(oldScript.innerHTML));\n      oldScript.parentNode.replaceChild(newScript, oldScript);\n    });\n    if (JS_MIME_TYPE in output.data) {\n      toinsert[nchildren-1].children[1].textContent = output.data[JS_MIME_TYPE];\n    }\n    output_area._hv_plot_id = id;\n    if ((window.Bokeh !== undefined) && (id in Bokeh.index)) {\n      window.PyViz.plot_index[id] = Bokeh.index[id];\n    } else {\n      window.PyViz.plot_index[id] = null;\n    }\n  } else if (output.metadata[EXEC_MIME_TYPE][\"server_id\"] !== undefined) {\n    var bk_div = document.createElement(\"div\");\n    bk_div.innerHTML = output.data[HTML_MIME_TYPE];\n    var script_attrs = bk_div.children[0].attributes;\n    for (var i = 0; i < script_attrs.length; i++) {\n      toinsert[toinsert.length - 1].childNodes[1].setAttribute(script_attrs[i].name, script_attrs[i].value);\n    }\n    // store reference to server id on output_area\n    output_area._bokeh_server_id = output.metadata[EXEC_MIME_TYPE][\"server_id\"];\n  }\n}\n\n/**\n * Handle when an output is cleared or removed\n */\nfunction handle_clear_output(event, handle) {\n  var id = handle.cell.output_area._hv_plot_id;\n  var server_id = handle.cell.output_area._bokeh_server_id;\n  if (((id === undefined) || !(id in PyViz.plot_index)) && (server_id !== undefined)) { return; }\n  var comm = window.PyViz.comm_manager.get_client_comm(\"hv-extension-comm\", \"hv-extension-comm\", function () {});\n  if (server_id !== null) {\n    comm.send({event_type: 'server_delete', 'id': server_id});\n    return;\n  } else if (comm !== null) {\n    comm.send({event_type: 'delete', 'id': id});\n  }\n  delete PyViz.plot_index[id];\n  if ((window.Bokeh !== undefined) & (id in window.Bokeh.index)) {\n    var doc = window.Bokeh.index[id].model.document\n    doc.clear();\n    const i = window.Bokeh.documents.indexOf(doc);\n    if (i > -1) {\n      window.Bokeh.documents.splice(i, 1);\n    }\n  }\n}\n\n/**\n * Handle kernel restart event\n */\nfunction handle_kernel_cleanup(event, handle) {\n  delete PyViz.comms[\"hv-extension-comm\"];\n  window.PyViz.plot_index = {}\n}\n\n/**\n * Handle update_display_data messages\n */\nfunction handle_update_output(event, handle) {\n  handle_clear_output(event, {cell: {output_area: handle.output_area}})\n  handle_add_output(event, handle)\n}\n\nfunction register_renderer(events, OutputArea) {\n  function append_mime(data, metadata, element) {\n    // create a DOM node to render to\n    var toinsert = this.create_output_subarea(\n    metadata,\n    CLASS_NAME,\n    EXEC_MIME_TYPE\n    );\n    this.keyboard_manager.register_events(toinsert);\n    // Render to node\n    var props = {data: data, metadata: metadata[EXEC_MIME_TYPE]};\n    render(props, toinsert[0]);\n    element.append(toinsert);\n    return toinsert\n  }\n\n  events.on('output_added.OutputArea', handle_add_output);\n  events.on('output_updated.OutputArea', handle_update_output);\n  events.on('clear_output.CodeCell', handle_clear_output);\n  events.on('delete.Cell', handle_clear_output);\n  events.on('kernel_ready.Kernel', handle_kernel_cleanup);\n\n  OutputArea.prototype.register_mime_type(EXEC_MIME_TYPE, append_mime, {\n    safe: true,\n    index: 0\n  });\n}\n\nif (window.Jupyter !== undefined) {\n  try {\n    var events = require('base/js/events');\n    var OutputArea = require('notebook/js/outputarea').OutputArea;\n    if (OutputArea.prototype.mime_types().indexOf(EXEC_MIME_TYPE) == -1) {\n      register_renderer(events, OutputArea);\n    }\n  } catch(err) {\n  }\n}\n"
     },
     "metadata": {},
     "output_type": "display_data"
    },
    {
     "data": {
      "text/html": [
       "<style>.bk-root, .bk-root .bk:before, .bk-root .bk:after {\n",
       "  font-family: var(--jp-ui-font-size1);\n",
       "  font-size: var(--jp-ui-font-size1);\n",
       "  color: var(--jp-ui-font-color1);\n",
       "}\n",
       "</style>"
      ]
     },
     "metadata": {},
     "output_type": "display_data"
    }
   ],
   "source": [
    "import keypoint_moseq as kpms\n",
    "\n",
    "project_dir = 'K:/keypoint-moseq/mi_project/'\n",
    "config = lambda: kpms.load_config(project_dir) # Creates a config file that you can configurate from the notebook."
   ]
  },
  {
   "cell_type": "code",
   "execution_count": 3,
   "id": "daa48d87-04c6-4adf-b8bd-4c237057e6a9",
   "metadata": {},
   "outputs": [],
   "source": [
    "import os"
   ]
  },
  {
   "cell_type": "markdown",
   "id": "c847ec9c-4455-4034-ae7b-58e3621c1e1a",
   "metadata": {},
   "source": [
    "### Setup from SLEAP"
   ]
  },
  {
   "cell_type": "markdown",
   "id": "27d856aa-3dfc-47e2-83ec-a96a22bbdb13",
   "metadata": {},
   "source": [
    "Here, I need to create a new directory and set up the project in it using the SLEAP data. I did this because if I referenced the `project_dir`, which contains `mi_proyect` (defined in the first code block), a new directory with the same name would be created, which isn’t possible. To avoid this, I would have had to overwrite the data, thereby losing the `config.yaml` file and the other files in the directory (at least that's what I believe).\n",
    "\n",
    "**Config.yaml file is generated**: A new project is created in the specified directory (`new_directory`), and this process automatically generates a `config.yaml` file with a default structure. This file serves as the project's base configuration, including all the parameters needed to process and model the keypoint data.\n",
    "\n",
    "**IN THE END, I MOVED AWAY FROM USING THAT \"MI_PROYECT_2\" DIRECTORY**: I simply copied the automatically generated `config.yaml` file and pasted it into the original `mi_proyect` directory. This config_auto file is interesting becouse has a basic estructure that I can use afterwards."
   ]
  },
  {
   "cell_type": "markdown",
   "id": "95579ad4-694d-4602-91c1-8495f2439fd1",
   "metadata": {},
   "source": [
    "### Load data"
   ]
  },
  {
   "cell_type": "code",
   "execution_count": 18,
   "id": "99968e9f-bb61-4755-a7c6-fae7486863ce",
   "metadata": {},
   "outputs": [
    {
     "name": "stdout",
     "output_type": "stream",
     "text": [
      "﻿\"scorer,DLC_resnet50_deeplabcut_singleanimal_1Sep14shuffle1_200000,DLC_resnet50_deeplabcut_singleanimal_1Sep14shuffle1_200000,DLC_resnet50_deeplabcut_singleanimal_1Sep14shuffle1_200000,DLC_resnet50_deeplabcut_singleanimal_1Sep14shuffle1_200000,DLC_resnet50_deeplabcut_singleanimal_1Sep14shuffle1_200000,DLC_resnet50_deeplabcut_singleanimal_1Sep14shuffle1_200000,DLC_resnet50_deeplabcut_singleanimal_1Sep14shuffle1_200000,DLC_resnet50_deeplabcut_singleanimal_1Sep14shuffle1_200000,DLC_resnet50_deeplabcut_singleanimal_1Sep14shuffle1_200000,DLC_resnet50_deeplabcut_singleanimal_1Sep14shuffle1_200000,DLC_resnet50_deeplabcut_singleanimal_1Sep14shuffle1_200000,DLC_resnet50_deeplabcut_singleanimal_1Sep14shuffle1_200000,DLC_resnet50_deeplabcut_singleanimal_1Sep14shuffle1_200000,DLC_resnet50_deeplabcut_singleanimal_1Sep14shuffle1_200000,DLC_resnet50_deeplabcut_singleanimal_1Sep14shuffle1_200000,DLC_resnet50_deeplabcut_singleanimal_1Sep14shuffle1_200000,DLC_resnet50_deeplabcut_singleanimal_1Sep14shuffle1_200000,DLC_resnet50_deeplabcut_singleanimal_1Sep14shuffle1_200000,DLC_resnet50_deeplabcut_singleanimal_1Sep14shuffle1_200000,DLC_resnet50_deeplabcut_singleanimal_1Sep14shuffle1_200000,DLC_resnet50_deeplabcut_singleanimal_1Sep14shuffle1_200000,DLC_resnet50_deeplabcut_singleanimal_1Sep14shuffle1_200000,DLC_resnet50_deeplabcut_singleanimal_1Sep14shuffle1_200000,DLC_resnet50_deeplabcut_singleanimal_1Sep14shuffle1_200000\"\n",
      "\"bodyparts,nose,nose,nose,right_ear,right_ear,right_ear,left_ear,left_ear,left_ear,center,center,center,right_side,right_side,right_side,left_side,left_side,left_side,tail_base,tail_base,tail_base,tail_end,tail_end,tail_end\"\n",
      "\"coords,x,y,likelihood,x,y,likelihood,x,y,likelihood,x,y,likelihood,x,y,likelihood,x,y,likelihood,x,y,likelihood,x,y,likelihood\"\n",
      "\"0,831.0929565429688,597.0568237304688,0.9916024804115295,804.67431640625,596.135009765625,0.9978567957878113,815.5526733398438,578.163330078125,0.9959015250205994,772.6473999023438,566.3759155273438,0.9878089427947998,769.612548828125,582.0621337890625,0.9860967993736267,782.6265869140625,554.9503784179688,0.9908189177513123,731.9215087890625,547.6231689453125,0.9998149275779724,660.3372192382812,503.77838134765625,0.997444748878479\"\n",
      "\"1,834.2131958007812,599.9742431640625,0.9922221302986145,809.93310546875,600.3201904296875,0.9916175007820129,820.34130859375,581.2542724609375,0.9971857666969299,778.9994506835938,568.46923828125,0.9951205849647522,774.0584716796875,583.1075439453125,0.9706811308860779,787.2872314453125,557.6156005859375,0.9835914373397827,734.9784545898438,550.9000854492188,0.999269425868988,663.4681396484375,505.8276062011719,0.9942314624786377\"\n",
      "\"2,837.3526000976562,603.740966796875,0.9919955730438232,812.9113159179688,603.5733032226562,0.990204930305481,823.42724609375,585.6843872070312,0.9935948252677917,782.8673706054688,570.6446533203125,0.9942600727081299,775.327392578125,587.61572265625,0.9715306758880615,790.9966430664062,559.3125,0.969785749912262,740.4754638671875,554.169677734375,0.9997730851173401,667.6819458007812,508.8689270019531,0.9934049248695374\"\n",
      "\"3,839.6721801757812,605.8681030273438,0.9837883710861206,814.2861328125,605.6019287109375,0.9833330512046814,827.85595703125,587.5494384765625,0.9961034059524536,784.3741455078125,572.89013671875,0.9924294352531433,777.371826171875,589.4005737304688,0.9865857362747192,792.8272094726562,562.9078979492188,0.9891074299812317,743.0166015625,556.2942504882812,0.9997342228889465,670.939697265625,509.76800537109375,0.9933947920799255\"\n",
      "\"4,844.9924926757812,608.689453125,0.9924505352973938,819.4545288085938,608.3125610351562,0.9962881803512573,831.7318725585938,589.9785766601562,0.9962561130523682,786.6552124023438,577.1268310546875,0.9924097061157227,781.3809204101562,591.1390991210938,0.9901575446128845,794.8483276367188,566.5512084960938,0.9947616457939148,747.6734619140625,559.374267578125,0.9996309280395508,676.6867065429688,511.85894775390625,0.9970006346702576\"\n",
      "\"5,849.9898681640625,610.4321899414062,0.9977439641952515,825.3443603515625,611.1261596679688,0.9961538910865784,836.103515625,590.814697265625,0.9972044825553894,790.1430053710938,578.5311889648438,0.995391845703125,785.9254150390625,592.574462890625,0.9858015179634094,797.8050537109375,568.816162109375,0.9912735819816589,750.9652709960938,560.4908447265625,0.9995369911193848,680.27783203125,514.7932739257812,0.9970870614051819\"\n",
      "\"6,855.922119140625,611.9505004882812,0.9955031275749207,829.5172729492188,613.3490600585938,0.9969455599784851,839.5244140625,593.4623413085938,0.9960629343986511,794.0345458984375,580.69140625,0.9954050779342651,790.5382690429688,594.4061279296875,0.9939067959785461,803.5179443359375,569.7640380859375,0.9903563857078552,755.9775390625,562.7681884765625,0.9998817443847656,683.8297729492188,518.1051025390625,0.9964371919631958\"\n"
     ]
    }
   ],
   "source": [
    "import csv\n",
    "\n",
    "with open('K:/file.csv', mode='r', newline='', encoding='utf-8') as csvfile:\n",
    "    spamreader = csv.reader(csvfile, delimiter=' ', quotechar='|')\n",
    "    for i, row in enumerate(spamreader):\n",
    "        if i>=10:\n",
    "            break\n",
    "        print(','.join(row))"
   ]
  },
  {
   "cell_type": "code",
   "execution_count": 4,
   "id": "e88f5678-7343-41c7-a8ac-d506abf31a38",
   "metadata": {
    "scrolled": true
   },
   "outputs": [
    {
     "name": "stderr",
     "output_type": "stream",
     "text": [
      "\n",
      "oading keypoints: 100%|██████████████████| 1/1 [00:00<00:00, 15.03it/s]"
     ]
    }
   ],
   "source": [
    "# load data (from sleap)\n",
    "keypoint_data_path = os.path.join('K:/notes/Notes-tfm/721_bueno_3.csv')\n",
    "coordinates, confidences, bodyparts = kpms.load_keypoints(keypoint_data_path, 'deeplabcut')\n",
    "\n",
    "# format data for modeling\n",
    "data, metadata = kpms.format_data(coordinates, confidences, **config())"
   ]
  },
  {
   "cell_type": "code",
   "execution_count": 23,
   "id": "7b1180f7-14f5-425f-9b5c-833930dc695f",
   "metadata": {},
   "outputs": [
    {
     "name": "stdout",
     "output_type": "stream",
     "text": [
      "existe\n"
     ]
    }
   ],
   "source": [
    "keypoint_data_path = r\"K:\\keypoint-moseq\\videos+coordinates\\956_CropDLC_resnet50_deeplabcut_singleanimal_1Sep14shuffle1_200000.csv\"\n",
    "\n",
    "if os.path.exists(keypoint_data_path):\n",
    "    print('existe')\n",
    "else:\n",
    "    print('no existe')"
   ]
  },
  {
   "cell_type": "markdown",
   "id": "192fefc1-eee4-420b-bf0a-c16380f5db5d",
   "metadata": {},
   "source": [
    "##### kpms.check_nan_proportions(coordinates, bodyparts, breakdown=True)"
   ]
  },
  {
   "cell_type": "markdown",
   "id": "2f655fcd-3d38-4077-9ead-0f7562ec9526",
   "metadata": {},
   "source": [
    "### Handle missing data\n",
    "\n",
    "NO LO HE SABIDO HACER\n",
    "Objective: filter mising data (frames with no skeleton)"
   ]
  },
  {
   "cell_type": "markdown",
   "id": "3eb31cf2-76d5-4d32-afc9-a13b1c3bc651",
   "metadata": {},
   "source": [
    "1) Extract data from sleap"
   ]
  },
  {
   "cell_type": "code",
   "execution_count": 5,
   "id": "af4994d3-31fe-44ab-b8fb-0347fa0c1a36",
   "metadata": {},
   "outputs": [
    {
     "name": "stdout",
     "output_type": "stream",
     "text": [
      "<KeysViewHDF5 ['frames', 'instances', 'metadata', 'points', 'pred_points', 'suggestions_json', 'tracks_json', 'videos_json']>\n"
     ]
    }
   ],
   "source": [
    "import h5py\n",
    "\n",
    "#load sleap file\n",
    "sleap_file = 'K:/keypoint-moseq/mi_project/labels.v001.slp'\n",
    "with h5py.File(sleap_file, \"r\") as f:   #File method opens a file. Accepts two arguments, r => allows to read file only\n",
    "    print(f.keys()) #explore the keys inside the file"
   ]
  },
  {
   "cell_type": "markdown",
   "id": "0c8ae18b-730f-4b76-bd25-88e9f1e23406",
   "metadata": {},
   "source": [
    "f.keys(): This returns a list of the main \"keys\" of the HDF5 file. Think of an HDF5 file as a file system. Each \"key\" is like the name of a folder within the file."
   ]
  },
  {
   "cell_type": "markdown",
   "id": "92dc490e-fae9-469a-9605-194de0d2701b",
   "metadata": {},
   "source": [
    "2. Extract keypoints"
   ]
  },
  {
   "cell_type": "code",
   "execution_count": 6,
   "id": "66554851-9bf7-4107-9875-8f0b5007985b",
   "metadata": {},
   "outputs": [
    {
     "name": "stdout",
     "output_type": "stream",
     "text": [
      "points shape: (14336,)\n",
      "points data: [(962.93859544, 545.81607225,  True, False)\n",
      " (963.74223807, 541.21074202,  True, False)\n",
      " (944.83783109, 565.22685825,  True, False) ...\n",
      " (748.64318848, 405.25219727,  True, False)\n",
      " (736.56726074, 349.07540894,  True, False)\n",
      " (768.09338379, 376.72473145,  True, False)]\n"
     ]
    }
   ],
   "source": [
    "with h5py.File(sleap_file, \"r\") as f:\n",
    "    points = f['points']\n",
    "    print(f\"points shape: {points.shape}\")  \n",
    "    print(f\"points data: {points[:]}\")"
   ]
  },
  {
   "cell_type": "code",
   "execution_count": 7,
   "id": "2a1e4c30-0e36-407b-a116-1cf8aa9f68fb",
   "metadata": {},
   "outputs": [
    {
     "name": "stdout",
     "output_type": "stream",
     "text": [
      "pred_points shape: (18634,)\n",
      "Pred_points data: [(1056.13061523, 200.81834412,  True, False, 0.99463373)\n",
      " (1095.88916016, 185.04275513,  True, False, 0.83424324)\n",
      " (1127.85217285, 177.20913696,  True, False, 0.64434266) ...\n",
      " ( 851.71289062, 664.1550293 ,  True, False, 0.98306268)\n",
      " ( 795.59356689, 648.03759766,  True, False, 0.89084828)\n",
      " ( 831.57391357, 631.99237061,  True, False, 0.90947521)]\n"
     ]
    }
   ],
   "source": [
    "with h5py.File(sleap_file, \"r\") as f:\n",
    "    pred_points = f['pred_points']\n",
    "    print(f\"pred_points shape: {pred_points.shape}\")\n",
    "    print(f\"Pred_points data: {pred_points[:]}\")  # Esto imprimirá los datos completos"
   ]
  },
  {
   "cell_type": "markdown",
   "id": "9afb800d-d410-42c1-80d8-776bf3bd4524",
   "metadata": {},
   "source": [
    "Convierto datos h5py a pandas"
   ]
  },
  {
   "cell_type": "code",
   "execution_count": 8,
   "id": "ff1f3290-2deb-4c65-b407-255c7f7f82c4",
   "metadata": {},
   "outputs": [],
   "source": [
    "import pandas as pd"
   ]
  },
  {
   "cell_type": "code",
   "execution_count": 9,
   "id": "18f067ea-2ce1-4218-8ef8-1f1c812c92e7",
   "metadata": {},
   "outputs": [
    {
     "name": "stdout",
     "output_type": "stream",
     "text": [
      "DataFrame for frames:\n",
      "   frame_id  video  frame_idx  instance_id_start  instance_id_end\n",
      "0         0      0          0                  0                2\n",
      "1         1      0       7168                  2                3\n",
      "2         2      0       1724                  3                4\n",
      "3         3      0      16464                  4                5\n",
      "4         4      0       6203                  5                6\n",
      "DataFrame for instances:\n",
      "   instance_id  instance_type  frame_id  skeleton  track  from_predicted  \\\n",
      "0            0              0         0         0     -1              -1   \n",
      "1            1              0         0         0     -1              -1   \n",
      "2            2              0         1         0     -1              -1   \n",
      "3            3              0         2         0     -1              -1   \n",
      "4            4              0         3         0     -1              -1   \n",
      "\n",
      "   score  point_id_start  point_id_end  tracking_score  \n",
      "0    NaN               0            14             NaN  \n",
      "1    NaN              14            28             NaN  \n",
      "2    NaN              28            42             NaN  \n",
      "3    NaN              42            56             NaN  \n",
      "4    NaN              56            70             NaN  \n",
      "Error al convertir metadata: Accessing a group is done with bytes or str, not <class 'slice'>\n",
      "DataFrame for points:\n",
      "            x           y  visible  complete\n",
      "0  962.938595  545.816072     True     False\n",
      "1  963.742238  541.210742     True     False\n",
      "2  944.837831  565.226858     True     False\n",
      "3  948.084794  559.839320     True     False\n",
      "4  979.845097  534.500467     True     False\n",
      "DataFrame for pred_points:\n",
      "             x           y  visible  complete     score\n",
      "0  1056.130615  200.818344     True     False  0.994634\n",
      "1  1095.889160  185.042755     True     False  0.834243\n",
      "2  1127.852173  177.209137     True     False  0.644343\n",
      "3  1163.962402  185.151459     True     False  0.814720\n",
      "4  1176.290405  193.751404     True     False  0.509010\n",
      "DataFrame for suggestions_json:\n",
      "                                                0\n",
      "0  b'{\"video\":\"1\",\"frame_idx\":5076,\"group\":null}'\n",
      "1    b'{\"video\":\"0\",\"frame_idx\":18689,\"group\":0}'\n",
      "2    b'{\"video\":\"1\",\"frame_idx\":30885,\"group\":1}'\n",
      "3  b'{\"video\":\"1\",\"frame_idx\":9999,\"group\":null}'\n",
      "4    b'{\"video\":\"0\",\"frame_idx\":18525,\"group\":0}'\n",
      "DataFrame for tracks_json:\n",
      "Empty DataFrame\n",
      "Columns: [0]\n",
      "Index: []\n",
      "DataFrame for videos_json:\n",
      "                                                   0\n",
      "0  b'{\"backend\":{\"filename\":\"G:/Openfield_videos/...\n",
      "1  b'{\"backend\":{\"filename\":\"G:/Openfield_videos/...\n",
      "2  b'{\"backend\":{\"filename\":\"S:/Lab_Member/Alba/O...\n",
      "3  b'{\"backend\":{\"filename\":\"S:/Lab_Member/Alba/O...\n",
      "4  b'{\"backend\":{\"filename\":\"S:/Lab_Member/Alba/O...\n"
     ]
    }
   ],
   "source": [
    "with h5py.File(sleap_file, \"r\") as f:\n",
    "    dataframes = {} #create dictionary for saving the DataFrames\n",
    "\n",
    "    # iterate through the keys\n",
    "    for key in f.keys():\n",
    "        dataset = f[key]\n",
    "\n",
    "         # Convertir el dataset a un DataFrame de pandas\n",
    "        # Es importante verificar que el dataset tenga datos numéricos para convertirlo directamente\n",
    "        try:\n",
    "            df = pd.DataFrame(dataset[:])\n",
    "            dataframes[key] = df\n",
    "            print(f\"DataFrame for {key}:\")\n",
    "            print(df.head())  # Imprimir las primeras filas del DataFrame\n",
    "        except Exception as e:\n",
    "            print(f\"Error al convertir {key}: {e}\")"
   ]
  },
  {
   "cell_type": "code",
   "execution_count": 10,
   "id": "5eae3d64-f0a6-4e2c-89c1-3988da9f3e7a",
   "metadata": {},
   "outputs": [
    {
     "name": "stdout",
     "output_type": "stream",
     "text": [
      "            x           y  visible  complete\n",
      "0  962.938595  545.816072     True     False\n",
      "1  963.742238  541.210742     True     False\n",
      "2  944.837831  565.226858     True     False\n",
      "3  948.084794  559.839320     True     False\n",
      "4  979.845097  534.500467     True     False\n"
     ]
    }
   ],
   "source": [
    "if 'points' in dataframes:\n",
    "    print(dataframes['points'].head())"
   ]
  },
  {
   "cell_type": "code",
   "execution_count": 11,
   "id": "bfd4bcf5-c2c2-4b41-bb21-4ea122000ea4",
   "metadata": {},
   "outputs": [
    {
     "name": "stdout",
     "output_type": "stream",
     "text": [
      "points shape: (14336,)\n",
      "points info: (962.93859544, 545.81607225, True, False)\n"
     ]
    }
   ],
   "source": [
    "with h5py.File(sleap_file, \"r\") as f:\n",
    "    points = f['points']\n",
    "    # Mostrar las primeras filas para entender la estructura\n",
    "    print(f\"points shape: {points.shape}\")\n",
    "    print(f\"points info: {points[0]}\")  # Muestra las primeras entradas\n"
   ]
  },
  {
   "cell_type": "markdown",
   "id": "d045987f-684e-4f06-8f59-826e2e17edfc",
   "metadata": {},
   "source": [
    "Continuo sin filtrar NaNs"
   ]
  },
  {
   "cell_type": "markdown",
   "id": "18e928d6-5e6f-4f32-83c1-a84c88032b48",
   "metadata": {},
   "source": [
    "### Calibration"
   ]
  },
  {
   "cell_type": "markdown",
   "id": "72f3744b-d7c1-4c3a-af9c-d7952b014657",
   "metadata": {},
   "source": [
    "### Fit PCA"
   ]
  },
  {
   "cell_type": "code",
   "execution_count": 5,
   "id": "c8c3bd35-a6c4-467a-a223-c2df7dcf3e8d",
   "metadata": {},
   "outputs": [
    {
     "name": "stdout",
     "output_type": "stream",
     "text": [
      ">=90.0% of variance exlained by 3 components.\n"
     ]
    },
    {
     "data": {
      "image/png": "[encoded data removed]",
      "text/plain": [
       "<Figure size 300x200 with 1 Axes>"
      ]
     },
     "metadata": {},
     "output_type": "display_data"
    },
    {
     "data": {
      "image/png": "[encoded data removed]",
      "text/plain": [
       "<Figure size 1000x300 with 10 Axes>"
      ]
     },
     "metadata": {},
     "output_type": "display_data"
    },
    {
     "data": {
      "text/plain": [
       "(None,)"
      ]
     },
     "execution_count": 5,
     "metadata": {},
     "output_type": "execute_result"
    }
   ],
   "source": [
    "pca = kpms.fit_pca(**data, **config())  #ajustar un modelo de PCA sobre los datos de los keypoints (Data) y las config. Encuentra los principales componentes que explican la mayor parte de la variabilidad de los keypoints\n",
    "kpms.save_pca(pca, project_dir)  # guardar PCA\n",
    "\n",
    "kpms.print_dims_to_explain_variance(pca, 0.9) # Muestra cuantos PCs (componentes principales) se necesitan para explicar el 90% de la varianza\n",
    "kpms.plot_scree(pca, project_dir=project_dir) # visualización de cuanto afecta cada componente a la varianza (cuanto explica cada PC de la varianza)\n",
    "kpms.plot_pcs(pca, project_dir=project_dir, **config()),   # Dibuja las poses promedio y cómo cambian en la dirección de cada PC.\n",
    "                                                           #Las líneas/edges translúcidas representan la pose media.\n",
    "                                                           #Las líneas/edges opacas representan una perturbación en la dirección del componente principal."
   ]
  },
  {
   "cell_type": "code",
   "execution_count": 6,
   "id": "d502b5ab-897b-4e04-8bab-01fdb5383461",
   "metadata": {},
   "outputs": [],
   "source": [
    "# Si ya ajustaste un modelo y quieres cargarlo sin recalcular:\n",
    "# pca = kpms.load_pca(project_dir)\n",
    "# Recupera el modelo PCA guardado en {project_dir}/pca.p para usarlo en otras partes del análisis.\n"
   ]
  },
  {
   "cell_type": "code",
   "execution_count": 7,
   "id": "9d0856f9-f51e-474e-a1a8-2a71d56f9064",
   "metadata": {},
   "outputs": [],
   "source": [
    "kpms.update_config(project_dir, latent_dim=7)  # Reconfiguras el modelo para que este solo use 7 dimensiones, que es el número que te ha indicado el PCA."
   ]
  },
  {
   "cell_type": "markdown",
   "id": "797e7617-e745-47c1-a2fc-f0cbd7b47b76",
   "metadata": {},
   "source": [
    "# Model fitting"
   ]
  },
  {
   "cell_type": "markdown",
   "id": "fb45128e-d56d-4beb-ba2e-84e3a0f2f647",
   "metadata": {},
   "source": [
    "Auto-Regressive Hidden Markov Model (AR-HMM), que es un modelo especializado en aprender patrones de movimiento y predecirlos.\n",
    "\n",
    "🔹 ¿Para qué sirve? → Permite identificar y segmentar movimientos repetitivos en los datos de poses. Es útil en estudios de comportamiento, biomecánica o análisis de video."
   ]
  },
  {
   "cell_type": "code",
   "execution_count": 8,
   "id": "c1ae13cf-4587-4ba4-aa4c-e060c6b1728d",
   "metadata": {},
   "outputs": [
    {
     "name": "stdout",
     "output_type": "stream",
     "text": [
      "Requirement already satisfied: jax in \\\\mdc-berlin.net\\fs\\homes\\algarci\\mini\\envs\\keypoint_moseq\\lib\\site-packages (0.4.30)\n",
      "Requirement already satisfied: jaxlib<=0.4.30,>=0.4.27 in \\\\mdc-berlin.net\\fs\\homes\\algarci\\mini\\envs\\keypoint_moseq\\lib\\site-packages (from jax) (0.4.30)\n",
      "Requirement already satisfied: ml-dtypes>=0.2.0 in \\\\mdc-berlin.net\\fs\\homes\\algarci\\mini\\envs\\keypoint_moseq\\lib\\site-packages (from jax) (0.5.0)\n",
      "Requirement already satisfied: numpy>=1.22 in \\\\mdc-berlin.net\\fs\\homes\\algarci\\mini\\envs\\keypoint_moseq\\lib\\site-packages (from jax) (1.26.4)\n",
      "Requirement already satisfied: opt-einsum in \\\\mdc-berlin.net\\fs\\homes\\algarci\\mini\\envs\\keypoint_moseq\\lib\\site-packages (from jax) (3.4.0)\n",
      "Requirement already satisfied: scipy>=1.9 in \\\\mdc-berlin.net\\fs\\homes\\algarci\\mini\\envs\\keypoint_moseq\\lib\\site-packages (from jax) (1.13.1)\n",
      "Requirement already satisfied: importlib-metadata>=4.6 in \\\\mdc-berlin.net\\fs\\homes\\algarci\\mini\\envs\\keypoint_moseq\\lib\\site-packages (from jax) (8.5.0)\n",
      "Requirement already satisfied: zipp>=3.20 in \\\\mdc-berlin.net\\fs\\homes\\algarci\\mini\\envs\\keypoint_moseq\\lib\\site-packages (from importlib-metadata>=4.6->jax) (3.21.0)\n",
      "Note: you may need to restart the kernel to use updated packages.\n"
     ]
    }
   ],
   "source": [
    "pip install -U jax"
   ]
  },
  {
   "cell_type": "code",
   "execution_count": 9,
   "id": "9c76c17f-2fb6-43b6-b818-a646faf5ee8a",
   "metadata": {},
   "outputs": [],
   "source": [
    "from jax_moseq.utils.debugging import convert_data_precision"
   ]
  },
  {
   "cell_type": "code",
   "execution_count": 10,
   "id": "9e95b673-23e7-475c-b96d-10afefd2f051",
   "metadata": {},
   "outputs": [],
   "source": [
    "import jax"
   ]
  },
  {
   "cell_type": "code",
   "execution_count": 11,
   "id": "2a0a1efa-c197-472e-957b-82785294c4b8",
   "metadata": {},
   "outputs": [
    {
     "name": "stdout",
     "output_type": "stream",
     "text": [
      "Help on function convert_data_precision in module jax_moseq.utils.debugging:\n",
      "\n",
      "convert_data_precision(data, x64=None)\n",
      "    Convert all numerical data in a pytree to the specified precision.\n",
      "    \n",
      "    Note that converting to 64-bit precision is only possible if\n",
      "    ``jax.config.x64_enabled`` is ``True``. To update this setting, use\n",
      "    ``jax.config.update('jax_enable_x64', True)``.\n",
      "    \n",
      "    Parameters\n",
      "    ----------\n",
      "    data: pytree (dict, list, tuple, array, or any nested combination thereof)\n",
      "        The data to convert.\n",
      "    x64: bool, default=None\n",
      "        If ``x64=True``, convert to 64-bit precision. If ``x64=False``,\n",
      "        convert to 32-bit precision. If ``x64=None``, infer the desired\n",
      "        precision from ``jax.config.x64_enabled``.\n",
      "    \n",
      "    Returns\n",
      "    -------\n",
      "    data: pytree\n",
      "        The converted data.\n",
      "\n"
     ]
    }
   ],
   "source": [
    "help(convert_data_precision)"
   ]
  },
  {
   "cell_type": "code",
   "execution_count": 12,
   "id": "842a231f-eadc-415b-bfff-f374dd1e4d4c",
   "metadata": {},
   "outputs": [
    {
     "name": "stdout",
     "output_type": "stream",
     "text": [
      "<class 'dict'>\n"
     ]
    }
   ],
   "source": [
    "# Verificar el tipo de data\n",
    "print(type(data))  # Si imprime <class 'dict'>, entonces es un diccionario\n"
   ]
  },
  {
   "cell_type": "code",
   "execution_count": 13,
   "id": "1476d545-9989-4a4e-b4eb-88a353fe22a3",
   "metadata": {},
   "outputs": [],
   "source": [
    "import jax.numpy as jnp\n",
    "\n",
    "# Si `data` es un diccionario con arrays de jax.numpy\n",
    "for key in data:\n",
    "    data[key] = jnp.array(data[key], dtype=jnp.float64)  # Convertir los valores a float64\n"
   ]
  },
  {
   "cell_type": "markdown",
   "id": "a6a8c905-ab6d-4904-83e5-aca8afe9f0b9",
   "metadata": {},
   "source": [
    "1. **Initialization**\n",
    " Auto-regressive (AR) parameters and syllable sequences are randomly initialized using pose trajectories from PCA  "
   ]
  },
  {
   "cell_type": "code",
   "execution_count": 14,
   "id": "fc7fe5fc-6270-421f-be78-ed7f63c12df4",
   "metadata": {},
   "outputs": [],
   "source": [
    "# initialize the model\n",
    "model = kpms.init_model(data, pca=pca, **config()) \n",
    "\n",
    "# optionally modify kappa\n",
    "# model = kpms.update_hypparams(model, kappa=NUMBER)"
   ]
  },
  {
   "cell_type": "markdown",
   "id": "5b19d588-d2be-4f22-8933-6231c836fd12",
   "metadata": {},
   "source": [
    "2. **Fitting an AR-HMM**"
   ]
  },
  {
   "cell_type": "code",
   "execution_count": 15,
   "id": "e758bea4-4fdb-4ffa-967a-8240a4891a21",
   "metadata": {},
   "outputs": [
    {
     "name": "stdout",
     "output_type": "stream",
     "text": [
      "Outputs will be saved to K:/keypoint-\n",
      "moseq/mi_project/2025_02_19-14_26_08\n"
     ]
    },
    {
     "name": "stderr",
     "output_type": "stream",
     "text": [
      " 49%|█████████████████▏                 | 25/51 [00:09<00:08,  2.97it/s]"
     ]
    },
    {
     "data": {
      "image/png": "[encoded data removed]",
      "text/plain": [
       "<Figure size 1200x250 with 4 Axes>"
      ]
     },
     "metadata": {},
     "output_type": "display_data"
    },
    {
     "name": "stderr",
     "output_type": "stream",
     "text": [
      " 98%|██████████████████████████████████▎| 50/51 [00:19<00:00,  2.93it/s]"
     ]
    },
    {
     "data": {
      "image/png": "[encoded data removed]",
      "text/plain": [
       "<Figure size 1200x250 with 4 Axes>"
      ]
     },
     "metadata": {},
     "output_type": "display_data"
    },
    {
     "name": "stderr",
     "output_type": "stream",
     "text": [
      "\n",
      "00%|███████████████████████████████████| 51/51 [00:20<00:00,  2.49it/s]"
     ]
    }
   ],
   "source": [
    "num_ar_iters = 50\n",
    "\n",
    "model, model_name = kpms.fit_model(\n",
    "    model, data, metadata, project_dir,\n",
    "    ar_only=True, num_iters=num_ar_iters)"
   ]
  },
  {
   "cell_type": "code",
   "execution_count": null,
   "id": "1d548d0c-6a4c-45cc-8de7-2af2dd4fbb32",
   "metadata": {},
   "outputs": [],
   "source": []
  }
 ],
 "metadata": {
  "kernelspec": {
   "display_name": "Python (keypoint_moseq)",
   "language": "python",
   "name": "keypoint_moseq"
  },
  "language_info": {
   "codemirror_mode": {
    "name": "ipython",
    "version": 3
   },
   "file_extension": ".py",
   "mimetype": "text/x-python",
   "name": "python",
   "nbconvert_exporter": "python",
   "pygments_lexer": "ipython3",
   "version": "3.9.21"
  }
 },
 "nbformat": 4,
 "nbformat_minor": 5
}
