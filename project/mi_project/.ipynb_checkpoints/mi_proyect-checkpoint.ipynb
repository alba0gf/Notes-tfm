{
 "cells": [
  {
   "cell_type": "markdown",
   "id": "9f59a9cd-cdf1-4492-a25e-a19f4bce7806",
   "metadata": {},
   "source": [
    " ## Proyect set up"
   ]
  },
  {
   "cell_type": "code",
   "execution_count": 16,
   "id": "e86756f5-0ad8-4896-9e66-039ac7645302",
   "metadata": {},
   "outputs": [],
   "source": [
    "import keypoint_moseq as kpms\n",
    "\n",
    "project_dir = 'K:/keypoint-moseq/mi_proyect/'\n",
    "config = lambda: kpms.load_config(project_dir)"
   ]
  },
  {
   "cell_type": "code",
   "execution_count": 17,
   "id": "daa48d87-04c6-4adf-b8bd-4c237057e6a9",
   "metadata": {},
   "outputs": [],
   "source": [
    "import os"
   ]
  },
  {
   "cell_type": "markdown",
   "id": "531e4448-8712-4250-a0e0-70ce5b1a8cc4",
   "metadata": {},
   "source": [
    "### Setup from SLEAP"
   ]
  },
  {
   "cell_type": "code",
   "execution_count": 20,
   "id": "a6323df8-9841-4fc8-99d9-1c7403701c15",
   "metadata": {},
   "outputs": [
    {
     "name": "stdout",
     "output_type": "stream",
     "text": [
      "The directory `K:/keypoint-moseq/mi_proyect/` already exists. Use\n",
      "`overwrite=True` or pick a different name\n"
     ]
    }
   ],
   "source": [
    "new_directory = 'K:/keypoint-moseq/mi_proyect_2'\n",
    "kpms.setup_project(project_dir, sleap_file=sleap_file)"
   ]
  },
  {
   "cell_type": "markdown",
   "id": "174d9981-03a3-4623-b3ae-337961a44843",
   "metadata": {},
   "source": [
    "sleap_file = 'K:/labeling/labels.v001.slp'\n",
    "kpms.setup_project(new_directory, sleap_file=sleap_file)"
   ]
  },
  {
   "cell_type": "markdown",
   "id": "95579ad4-694d-4602-91c1-8495f2439fd1",
   "metadata": {},
   "source": [
    "### Load data"
   ]
  },
  {
   "cell_type": "code",
   "execution_count": 28,
   "id": "e88f5678-7343-41c7-a8ac-d506abf31a38",
   "metadata": {},
   "outputs": [
    {
     "name": "stderr",
     "output_type": "stream",
     "text": [
      "\n",
      "oading keypoints: 100%|██████████████████| 1/1 [00:00<00:00,  5.10it/s]"
     ]
    },
    {
     "ename": "TypeError",
     "evalue": "string indices must be integers",
     "output_type": "error",
     "traceback": [
      "\u001b[1;31m---------------------------------------------------------------------------\u001b[0m",
      "\u001b[1;31mTypeError\u001b[0m                                 Traceback (most recent call last)",
      "Cell \u001b[1;32mIn[28], line 6\u001b[0m\n\u001b[0;32m      3\u001b[0m coordinates, confidences, bodyparts \u001b[38;5;241m=\u001b[39m kpms\u001b[38;5;241m.\u001b[39mload_keypoints(keypoint_data_path, \u001b[38;5;124m'\u001b[39m\u001b[38;5;124msleap\u001b[39m\u001b[38;5;124m'\u001b[39m)\n\u001b[0;32m      5\u001b[0m \u001b[38;5;66;03m# format data for modeling\u001b[39;00m\n\u001b[1;32m----> 6\u001b[0m data, metadata \u001b[38;5;241m=\u001b[39m kpms\u001b[38;5;241m.\u001b[39mformat_data(coordinates, confidences, \u001b[38;5;241m*\u001b[39m\u001b[38;5;241m*\u001b[39m\u001b[43mconfig\u001b[49m\u001b[43m(\u001b[49m\u001b[43m)\u001b[49m)\n",
      "Cell \u001b[1;32mIn[16], line 4\u001b[0m, in \u001b[0;36m<lambda>\u001b[1;34m()\u001b[0m\n\u001b[0;32m      1\u001b[0m \u001b[38;5;28;01mimport\u001b[39;00m \u001b[38;5;21;01mkeypoint_moseq\u001b[39;00m \u001b[38;5;28;01mas\u001b[39;00m \u001b[38;5;21;01mkpms\u001b[39;00m\n\u001b[0;32m      3\u001b[0m project_dir \u001b[38;5;241m=\u001b[39m \u001b[38;5;124m'\u001b[39m\u001b[38;5;124mK:/keypoint-moseq/mi_proyect/\u001b[39m\u001b[38;5;124m'\u001b[39m\n\u001b[1;32m----> 4\u001b[0m config \u001b[38;5;241m=\u001b[39m \u001b[38;5;28;01mlambda\u001b[39;00m: \u001b[43mkpms\u001b[49m\u001b[38;5;241;43m.\u001b[39;49m\u001b[43mload_config\u001b[49m\u001b[43m(\u001b[49m\u001b[43mproject_dir\u001b[49m\u001b[43m)\u001b[49m\n",
      "File \u001b[1;32mK:\\mini\\envs\\keypoint_moseq\\lib\\site-packages\\keypoint_moseq\\io.py:258\u001b[0m, in \u001b[0;36mload_config\u001b[1;34m(project_dir, check_if_valid, build_indexes)\u001b[0m\n\u001b[0;32m    255\u001b[0m     config \u001b[38;5;241m=\u001b[39m yaml\u001b[38;5;241m.\u001b[39msafe_load(stream)\n\u001b[0;32m    257\u001b[0m \u001b[38;5;28;01mif\u001b[39;00m check_if_valid:\n\u001b[1;32m--> 258\u001b[0m     \u001b[43mcheck_config_validity\u001b[49m\u001b[43m(\u001b[49m\u001b[43mconfig\u001b[49m\u001b[43m)\u001b[49m\n\u001b[0;32m    260\u001b[0m \u001b[38;5;28;01mif\u001b[39;00m build_indexes:\n\u001b[0;32m    261\u001b[0m     config[\u001b[38;5;124m\"\u001b[39m\u001b[38;5;124manterior_idxs\u001b[39m\u001b[38;5;124m\"\u001b[39m] \u001b[38;5;241m=\u001b[39m jnp\u001b[38;5;241m.\u001b[39marray(\n\u001b[0;32m    262\u001b[0m         [config[\u001b[38;5;124m\"\u001b[39m\u001b[38;5;124muse_bodyparts\u001b[39m\u001b[38;5;124m\"\u001b[39m]\u001b[38;5;241m.\u001b[39mindex(bp) \u001b[38;5;28;01mfor\u001b[39;00m bp \u001b[38;5;129;01min\u001b[39;00m config[\u001b[38;5;124m\"\u001b[39m\u001b[38;5;124manterior_bodyparts\u001b[39m\u001b[38;5;124m\"\u001b[39m]]\n\u001b[0;32m    263\u001b[0m     )\n",
      "File \u001b[1;32mK:\\mini\\envs\\keypoint_moseq\\lib\\site-packages\\keypoint_moseq\\io.py:195\u001b[0m, in \u001b[0;36mcheck_config_validity\u001b[1;34m(config)\u001b[0m\n\u001b[0;32m    192\u001b[0m error_messages \u001b[38;5;241m=\u001b[39m []\n\u001b[0;32m    194\u001b[0m \u001b[38;5;66;03m# check anatomy\u001b[39;00m\n\u001b[1;32m--> 195\u001b[0m \u001b[38;5;28;01mfor\u001b[39;00m bodypart \u001b[38;5;129;01min\u001b[39;00m \u001b[43mconfig\u001b[49m\u001b[43m[\u001b[49m\u001b[38;5;124;43m\"\u001b[39;49m\u001b[38;5;124;43muse_bodyparts\u001b[39;49m\u001b[38;5;124;43m\"\u001b[39;49m\u001b[43m]\u001b[49m:\n\u001b[0;32m    196\u001b[0m     \u001b[38;5;28;01mif\u001b[39;00m \u001b[38;5;129;01mnot\u001b[39;00m bodypart \u001b[38;5;129;01min\u001b[39;00m config[\u001b[38;5;124m\"\u001b[39m\u001b[38;5;124mbodyparts\u001b[39m\u001b[38;5;124m\"\u001b[39m]:\n\u001b[0;32m    197\u001b[0m         error_messages\u001b[38;5;241m.\u001b[39mappend(\n\u001b[0;32m    198\u001b[0m             \u001b[38;5;124mf\u001b[39m\u001b[38;5;124m\"\u001b[39m\u001b[38;5;124mACTION REQUIRED: `use_bodyparts` contains \u001b[39m\u001b[38;5;132;01m{\u001b[39;00mbodypart\u001b[38;5;132;01m}\u001b[39;00m\u001b[38;5;124m \u001b[39m\u001b[38;5;124m\"\u001b[39m\n\u001b[0;32m    199\u001b[0m             \u001b[38;5;124m\"\u001b[39m\u001b[38;5;124mwhich is not one of the options in `bodyparts`.\u001b[39m\u001b[38;5;124m\"\u001b[39m\n\u001b[0;32m    200\u001b[0m         )\n",
      "\u001b[1;31mTypeError\u001b[0m: string indices must be integers"
     ]
    }
   ],
   "source": [
    "# load data (from sleap)\n",
    "keypoint_data_path = os.path.join('K:/labeling/labels.v001.slp')\n",
    "coordinates, confidences, bodyparts = kpms.load_keypoints(keypoint_data_path, 'sleap')\n",
    "\n",
    "# format data for modeling\n",
    "data, metadata = kpms.format_data(coordinates, confidences, **config())"
   ]
  },
  {
   "cell_type": "markdown",
   "id": "6bdd8837-ca53-4ed6-84ac-8fe54a845883",
   "metadata": {},
   "source": [
    "### Calibration"
   ]
  },
  {
   "cell_type": "code",
   "execution_count": null,
   "id": "58510e1b-cd48-4da9-873a-71720525d6f4",
   "metadata": {},
   "outputs": [],
   "source": [
    "kpms.noise_calibration(project_dir, coordinates, confidences, **config())\n"
   ]
  },
  {
   "cell_type": "code",
   "execution_count": null,
   "id": "008e780d-0712-4da1-85df-cfc3baec42da",
   "metadata": {},
   "outputs": [],
   "source": []
  }
 ],
 "metadata": {
  "kernelspec": {
   "display_name": "Python (keypoint_moseq)",
   "language": "python",
   "name": "keypoint_moseq"
  },
  "language_info": {
   "codemirror_mode": {
    "name": "ipython",
    "version": 3
   },
   "file_extension": ".py",
   "mimetype": "text/x-python",
   "name": "python",
   "nbconvert_exporter": "python",
   "pygments_lexer": "ipython3",
   "version": "3.9.21"
  }
 },
 "nbformat": 4,
 "nbformat_minor": 5
}
