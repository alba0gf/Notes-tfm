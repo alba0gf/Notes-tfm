{
 "cells": [
  {
   "cell_type": "code",
   "execution_count": 2,
   "id": "e758b073-6c12-4975-8ccc-395d65525ce1",
   "metadata": {},
   "outputs": [
    {
     "name": "stdout",
     "output_type": "stream",
     "text": [
      "3.9.21 | packaged by conda-forge | (main, Dec  5 2024, 13:41:22) [MSC v.1929 64 bit (AMD64)]\n",
      "pandas version 2.2.3\n"
     ]
    }
   ],
   "source": [
    "import pandas as pd\n",
    "import sys\n",
    "print(sys.version)\n",
    "print('pandas version',pd.__version__)"
   ]
  },
  {
   "cell_type": "code",
   "execution_count": 3,
   "id": "d742c324-d51c-46c8-ae33-579a6d4f8ab6",
   "metadata": {},
   "outputs": [
    {
     "ename": "SyntaxError",
     "evalue": "invalid syntax (3006742159.py, line 1)",
     "output_type": "error",
     "traceback": [
      "\u001b[1;36m  Cell \u001b[1;32mIn[3], line 1\u001b[1;36m\u001b[0m\n\u001b[1;33m    READ AND WRITING\u001b[0m\n\u001b[1;37m         ^\u001b[0m\n\u001b[1;31mSyntaxError\u001b[0m\u001b[1;31m:\u001b[0m invalid syntax\n"
     ]
    }
   ],
   "source": [
    "READ AND WRITING\n"
   ]
  },
  {
   "cell_type": "code",
   "execution_count": null,
   "id": "444eb6a5-b9dc-4a01-845a-1fb4d3184cdc",
   "metadata": {},
   "outputs": [],
   "source": [
    "pd.read_csv"
   ]
  },
  {
   "cell_type": "code",
   "execution_count": 6,
   "id": "f711c619-489b-45e4-8a80-f4a59a54c472",
   "metadata": {},
   "outputs": [
    {
     "name": "stdout",
     "output_type": "stream",
     "text": [
      "Requirement already satisfied: jupyterlab-lsp in \\\\mdc-berlin.net\\fs\\homes\\algarci\\mini\\envs\\keypoint_moseq\\lib\\site-packages (5.1.0)\n",
      "Requirement already satisfied: python-lsp-server in \\\\mdc-berlin.net\\fs\\homes\\algarci\\mini\\envs\\keypoint_moseq\\lib\\site-packages (1.12.0)\n",
      "Requirement already satisfied: jupyter-lsp>=2.0.0 in \\\\mdc-berlin.net\\fs\\homes\\algarci\\mini\\envs\\keypoint_moseq\\lib\\site-packages (from jupyterlab-lsp) (2.2.5)\n",
      "Requirement already satisfied: jupyterlab<5.0.0a0,>=4.1.0 in \\\\mdc-berlin.net\\fs\\homes\\algarci\\mini\\envs\\keypoint_moseq\\lib\\site-packages (from jupyterlab-lsp) (4.3.3)\n",
      "Requirement already satisfied: docstring-to-markdown in \\\\mdc-berlin.net\\fs\\homes\\algarci\\mini\\envs\\keypoint_moseq\\lib\\site-packages (from python-lsp-server) (0.15)\n",
      "Requirement already satisfied: jedi<0.20.0,>=0.17.2 in \\\\mdc-berlin.net\\fs\\homes\\algarci\\mini\\envs\\keypoint_moseq\\lib\\site-packages (from python-lsp-server) (0.19.2)\n",
      "Requirement already satisfied: pluggy>=1.0.0 in \\\\mdc-berlin.net\\fs\\homes\\algarci\\mini\\envs\\keypoint_moseq\\lib\\site-packages (from python-lsp-server) (1.5.0)\n",
      "Requirement already satisfied: python-lsp-jsonrpc<2.0.0,>=1.1.0 in \\\\mdc-berlin.net\\fs\\homes\\algarci\\mini\\envs\\keypoint_moseq\\lib\\site-packages (from python-lsp-server) (1.1.2)\n",
      "Requirement already satisfied: ujson>=3.0.0 in \\\\mdc-berlin.net\\fs\\homes\\algarci\\mini\\envs\\keypoint_moseq\\lib\\site-packages (from python-lsp-server) (5.10.0)\n",
      "Requirement already satisfied: importlib-metadata>=4.8.3 in \\\\mdc-berlin.net\\fs\\homes\\algarci\\mini\\envs\\keypoint_moseq\\lib\\site-packages (from python-lsp-server) (8.5.0)\n",
      "Requirement already satisfied: zipp>=3.20 in \\\\mdc-berlin.net\\fs\\homes\\algarci\\mini\\envs\\keypoint_moseq\\lib\\site-packages (from importlib-metadata>=4.8.3->python-lsp-server) (3.21.0)\n",
      "Requirement already satisfied: parso<0.9.0,>=0.8.4 in \\\\mdc-berlin.net\\fs\\homes\\algarci\\mini\\envs\\keypoint_moseq\\lib\\site-packages (from jedi<0.20.0,>=0.17.2->python-lsp-server) (0.8.4)\n",
      "Requirement already satisfied: jupyter_server>=1.1.2 in \\\\mdc-berlin.net\\fs\\homes\\algarci\\mini\\envs\\keypoint_moseq\\lib\\site-packages (from jupyter-lsp>=2.0.0->jupyterlab-lsp) (2.14.2)\n",
      "Requirement already satisfied: async-lru>=1.0.0 in \\\\mdc-berlin.net\\fs\\homes\\algarci\\mini\\envs\\keypoint_moseq\\lib\\site-packages (from jupyterlab<5.0.0a0,>=4.1.0->jupyterlab-lsp) (2.0.4)\n",
      "Requirement already satisfied: httpx>=0.25.0 in \\\\mdc-berlin.net\\fs\\homes\\algarci\\mini\\envs\\keypoint_moseq\\lib\\site-packages (from jupyterlab<5.0.0a0,>=4.1.0->jupyterlab-lsp) (0.28.1)\n",
      "Requirement already satisfied: ipykernel>=6.5.0 in \\\\mdc-berlin.net\\fs\\homes\\algarci\\mini\\envs\\keypoint_moseq\\lib\\site-packages (from jupyterlab<5.0.0a0,>=4.1.0->jupyterlab-lsp) (6.29.5)\n",
      "Requirement already satisfied: jinja2>=3.0.3 in \\\\mdc-berlin.net\\fs\\homes\\algarci\\mini\\envs\\keypoint_moseq\\lib\\site-packages (from jupyterlab<5.0.0a0,>=4.1.0->jupyterlab-lsp) (3.1.4)\n",
      "Requirement already satisfied: jupyter-core in \\\\mdc-berlin.net\\fs\\homes\\algarci\\mini\\envs\\keypoint_moseq\\lib\\site-packages (from jupyterlab<5.0.0a0,>=4.1.0->jupyterlab-lsp) (5.7.2)\n",
      "Requirement already satisfied: jupyterlab-server<3,>=2.27.1 in \\\\mdc-berlin.net\\fs\\homes\\algarci\\mini\\envs\\keypoint_moseq\\lib\\site-packages (from jupyterlab<5.0.0a0,>=4.1.0->jupyterlab-lsp) (2.27.3)\n",
      "Requirement already satisfied: notebook-shim>=0.2 in \\\\mdc-berlin.net\\fs\\homes\\algarci\\mini\\envs\\keypoint_moseq\\lib\\site-packages (from jupyterlab<5.0.0a0,>=4.1.0->jupyterlab-lsp) (0.2.4)\n",
      "Requirement already satisfied: packaging in \\\\mdc-berlin.net\\fs\\homes\\algarci\\mini\\envs\\keypoint_moseq\\lib\\site-packages (from jupyterlab<5.0.0a0,>=4.1.0->jupyterlab-lsp) (24.2)\n",
      "Requirement already satisfied: setuptools>=40.8.0 in \\\\mdc-berlin.net\\fs\\homes\\algarci\\mini\\envs\\keypoint_moseq\\lib\\site-packages (from jupyterlab<5.0.0a0,>=4.1.0->jupyterlab-lsp) (75.6.0)\n",
      "Requirement already satisfied: tomli>=1.2.2 in \\\\mdc-berlin.net\\fs\\homes\\algarci\\mini\\envs\\keypoint_moseq\\lib\\site-packages (from jupyterlab<5.0.0a0,>=4.1.0->jupyterlab-lsp) (2.2.1)\n",
      "Requirement already satisfied: tornado>=6.2.0 in \\\\mdc-berlin.net\\fs\\homes\\algarci\\mini\\envs\\keypoint_moseq\\lib\\site-packages (from jupyterlab<5.0.0a0,>=4.1.0->jupyterlab-lsp) (6.4.2)\n",
      "Requirement already satisfied: traitlets in \\\\mdc-berlin.net\\fs\\homes\\algarci\\mini\\envs\\keypoint_moseq\\lib\\site-packages (from jupyterlab<5.0.0a0,>=4.1.0->jupyterlab-lsp) (5.14.3)\n",
      "Requirement already satisfied: typing_extensions>=4.0.0 in \\\\mdc-berlin.net\\fs\\homes\\algarci\\mini\\envs\\keypoint_moseq\\lib\\site-packages (from async-lru>=1.0.0->jupyterlab<5.0.0a0,>=4.1.0->jupyterlab-lsp) (4.12.2)\n",
      "Requirement already satisfied: anyio in \\\\mdc-berlin.net\\fs\\homes\\algarci\\mini\\envs\\keypoint_moseq\\lib\\site-packages (from httpx>=0.25.0->jupyterlab<5.0.0a0,>=4.1.0->jupyterlab-lsp) (4.7.0)\n",
      "Requirement already satisfied: certifi in \\\\mdc-berlin.net\\fs\\homes\\algarci\\mini\\envs\\keypoint_moseq\\lib\\site-packages (from httpx>=0.25.0->jupyterlab<5.0.0a0,>=4.1.0->jupyterlab-lsp) (2024.12.14)\n",
      "Requirement already satisfied: httpcore==1.* in \\\\mdc-berlin.net\\fs\\homes\\algarci\\mini\\envs\\keypoint_moseq\\lib\\site-packages (from httpx>=0.25.0->jupyterlab<5.0.0a0,>=4.1.0->jupyterlab-lsp) (1.0.7)\n",
      "Requirement already satisfied: idna in \\\\mdc-berlin.net\\fs\\homes\\algarci\\mini\\envs\\keypoint_moseq\\lib\\site-packages (from httpx>=0.25.0->jupyterlab<5.0.0a0,>=4.1.0->jupyterlab-lsp) (3.10)\n",
      "Requirement already satisfied: h11<0.15,>=0.13 in \\\\mdc-berlin.net\\fs\\homes\\algarci\\mini\\envs\\keypoint_moseq\\lib\\site-packages (from httpcore==1.*->httpx>=0.25.0->jupyterlab<5.0.0a0,>=4.1.0->jupyterlab-lsp) (0.14.0)\n",
      "Requirement already satisfied: comm>=0.1.1 in \\\\mdc-berlin.net\\fs\\homes\\algarci\\mini\\envs\\keypoint_moseq\\lib\\site-packages (from ipykernel>=6.5.0->jupyterlab<5.0.0a0,>=4.1.0->jupyterlab-lsp) (0.2.2)\n",
      "Requirement already satisfied: debugpy>=1.6.5 in \\\\mdc-berlin.net\\fs\\homes\\algarci\\mini\\envs\\keypoint_moseq\\lib\\site-packages (from ipykernel>=6.5.0->jupyterlab<5.0.0a0,>=4.1.0->jupyterlab-lsp) (1.8.11)\n",
      "Requirement already satisfied: ipython>=7.23.1 in \\\\mdc-berlin.net\\fs\\homes\\algarci\\mini\\envs\\keypoint_moseq\\lib\\site-packages (from ipykernel>=6.5.0->jupyterlab<5.0.0a0,>=4.1.0->jupyterlab-lsp) (8.18.1)\n",
      "Requirement already satisfied: jupyter-client>=6.1.12 in \\\\mdc-berlin.net\\fs\\homes\\algarci\\mini\\envs\\keypoint_moseq\\lib\\site-packages (from ipykernel>=6.5.0->jupyterlab<5.0.0a0,>=4.1.0->jupyterlab-lsp) (8.6.3)\n",
      "Requirement already satisfied: matplotlib-inline>=0.1 in \\\\mdc-berlin.net\\fs\\homes\\algarci\\mini\\envs\\keypoint_moseq\\lib\\site-packages (from ipykernel>=6.5.0->jupyterlab<5.0.0a0,>=4.1.0->jupyterlab-lsp) (0.1.7)\n",
      "Requirement already satisfied: nest-asyncio in \\\\mdc-berlin.net\\fs\\homes\\algarci\\mini\\envs\\keypoint_moseq\\lib\\site-packages (from ipykernel>=6.5.0->jupyterlab<5.0.0a0,>=4.1.0->jupyterlab-lsp) (1.6.0)\n",
      "Requirement already satisfied: psutil in \\\\mdc-berlin.net\\fs\\homes\\algarci\\mini\\envs\\keypoint_moseq\\lib\\site-packages (from ipykernel>=6.5.0->jupyterlab<5.0.0a0,>=4.1.0->jupyterlab-lsp) (6.1.0)\n",
      "Requirement already satisfied: pyzmq>=24 in \\\\mdc-berlin.net\\fs\\homes\\algarci\\mini\\envs\\keypoint_moseq\\lib\\site-packages (from ipykernel>=6.5.0->jupyterlab<5.0.0a0,>=4.1.0->jupyterlab-lsp) (26.2.0)\n",
      "Requirement already satisfied: MarkupSafe>=2.0 in \\\\mdc-berlin.net\\fs\\homes\\algarci\\mini\\envs\\keypoint_moseq\\lib\\site-packages (from jinja2>=3.0.3->jupyterlab<5.0.0a0,>=4.1.0->jupyterlab-lsp) (3.0.2)\n",
      "Requirement already satisfied: platformdirs>=2.5 in \\\\mdc-berlin.net\\fs\\homes\\algarci\\mini\\envs\\keypoint_moseq\\lib\\site-packages (from jupyter-core->jupyterlab<5.0.0a0,>=4.1.0->jupyterlab-lsp) (4.3.6)\n",
      "Requirement already satisfied: pywin32>=300 in \\\\mdc-berlin.net\\fs\\homes\\algarci\\mini\\envs\\keypoint_moseq\\lib\\site-packages (from jupyter-core->jupyterlab<5.0.0a0,>=4.1.0->jupyterlab-lsp) (307)\n",
      "Requirement already satisfied: argon2-cffi>=21.1 in \\\\mdc-berlin.net\\fs\\homes\\algarci\\mini\\envs\\keypoint_moseq\\lib\\site-packages (from jupyter_server>=1.1.2->jupyter-lsp>=2.0.0->jupyterlab-lsp) (23.1.0)\n",
      "Requirement already satisfied: jupyter-events>=0.9.0 in \\\\mdc-berlin.net\\fs\\homes\\algarci\\mini\\envs\\keypoint_moseq\\lib\\site-packages (from jupyter_server>=1.1.2->jupyter-lsp>=2.0.0->jupyterlab-lsp) (0.10.0)\n",
      "Requirement already satisfied: jupyter-server-terminals>=0.4.4 in \\\\mdc-berlin.net\\fs\\homes\\algarci\\mini\\envs\\keypoint_moseq\\lib\\site-packages (from jupyter_server>=1.1.2->jupyter-lsp>=2.0.0->jupyterlab-lsp) (0.5.3)\n",
      "Requirement already satisfied: nbconvert>=6.4.4 in \\\\mdc-berlin.net\\fs\\homes\\algarci\\mini\\envs\\keypoint_moseq\\lib\\site-packages (from jupyter_server>=1.1.2->jupyter-lsp>=2.0.0->jupyterlab-lsp) (7.16.4)\n",
      "Requirement already satisfied: nbformat>=5.3.0 in \\\\mdc-berlin.net\\fs\\homes\\algarci\\mini\\envs\\keypoint_moseq\\lib\\site-packages (from jupyter_server>=1.1.2->jupyter-lsp>=2.0.0->jupyterlab-lsp) (5.10.4)\n",
      "Requirement already satisfied: overrides>=5.0 in \\\\mdc-berlin.net\\fs\\homes\\algarci\\mini\\envs\\keypoint_moseq\\lib\\site-packages (from jupyter_server>=1.1.2->jupyter-lsp>=2.0.0->jupyterlab-lsp) (7.7.0)\n",
      "Requirement already satisfied: prometheus-client>=0.9 in \\\\mdc-berlin.net\\fs\\homes\\algarci\\mini\\envs\\keypoint_moseq\\lib\\site-packages (from jupyter_server>=1.1.2->jupyter-lsp>=2.0.0->jupyterlab-lsp) (0.21.1)\n",
      "Requirement already satisfied: pywinpty>=2.0.1 in \\\\mdc-berlin.net\\fs\\homes\\algarci\\mini\\envs\\keypoint_moseq\\lib\\site-packages (from jupyter_server>=1.1.2->jupyter-lsp>=2.0.0->jupyterlab-lsp) (2.0.14)\n",
      "Requirement already satisfied: send2trash>=1.8.2 in \\\\mdc-berlin.net\\fs\\homes\\algarci\\mini\\envs\\keypoint_moseq\\lib\\site-packages (from jupyter_server>=1.1.2->jupyter-lsp>=2.0.0->jupyterlab-lsp) (1.8.3)\n",
      "Requirement already satisfied: terminado>=0.8.3 in \\\\mdc-berlin.net\\fs\\homes\\algarci\\mini\\envs\\keypoint_moseq\\lib\\site-packages (from jupyter_server>=1.1.2->jupyter-lsp>=2.0.0->jupyterlab-lsp) (0.18.1)\n",
      "Requirement already satisfied: websocket-client>=1.7 in \\\\mdc-berlin.net\\fs\\homes\\algarci\\mini\\envs\\keypoint_moseq\\lib\\site-packages (from jupyter_server>=1.1.2->jupyter-lsp>=2.0.0->jupyterlab-lsp) (1.8.0)\n",
      "Requirement already satisfied: babel>=2.10 in \\\\mdc-berlin.net\\fs\\homes\\algarci\\mini\\envs\\keypoint_moseq\\lib\\site-packages (from jupyterlab-server<3,>=2.27.1->jupyterlab<5.0.0a0,>=4.1.0->jupyterlab-lsp) (2.16.0)\n",
      "Requirement already satisfied: json5>=0.9.0 in \\\\mdc-berlin.net\\fs\\homes\\algarci\\mini\\envs\\keypoint_moseq\\lib\\site-packages (from jupyterlab-server<3,>=2.27.1->jupyterlab<5.0.0a0,>=4.1.0->jupyterlab-lsp) (0.10.0)\n",
      "Requirement already satisfied: jsonschema>=4.18.0 in \\\\mdc-berlin.net\\fs\\homes\\algarci\\mini\\envs\\keypoint_moseq\\lib\\site-packages (from jupyterlab-server<3,>=2.27.1->jupyterlab<5.0.0a0,>=4.1.0->jupyterlab-lsp) (4.23.0)\n",
      "Requirement already satisfied: requests>=2.31 in \\\\mdc-berlin.net\\fs\\homes\\algarci\\mini\\envs\\keypoint_moseq\\lib\\site-packages (from jupyterlab-server<3,>=2.27.1->jupyterlab<5.0.0a0,>=4.1.0->jupyterlab-lsp) (2.32.3)\n",
      "Requirement already satisfied: exceptiongroup>=1.0.2 in \\\\mdc-berlin.net\\fs\\homes\\algarci\\mini\\envs\\keypoint_moseq\\lib\\site-packages (from anyio->httpx>=0.25.0->jupyterlab<5.0.0a0,>=4.1.0->jupyterlab-lsp) (1.2.2)\n",
      "Requirement already satisfied: sniffio>=1.1 in \\\\mdc-berlin.net\\fs\\homes\\algarci\\mini\\envs\\keypoint_moseq\\lib\\site-packages (from anyio->httpx>=0.25.0->jupyterlab<5.0.0a0,>=4.1.0->jupyterlab-lsp) (1.3.1)\n",
      "Requirement already satisfied: argon2-cffi-bindings in \\\\mdc-berlin.net\\fs\\homes\\algarci\\mini\\envs\\keypoint_moseq\\lib\\site-packages (from argon2-cffi>=21.1->jupyter_server>=1.1.2->jupyter-lsp>=2.0.0->jupyterlab-lsp) (21.2.0)\n",
      "Requirement already satisfied: decorator in \\\\mdc-berlin.net\\fs\\homes\\algarci\\mini\\envs\\keypoint_moseq\\lib\\site-packages (from ipython>=7.23.1->ipykernel>=6.5.0->jupyterlab<5.0.0a0,>=4.1.0->jupyterlab-lsp) (5.1.1)\n",
      "Requirement already satisfied: prompt-toolkit<3.1.0,>=3.0.41 in \\\\mdc-berlin.net\\fs\\homes\\algarci\\mini\\envs\\keypoint_moseq\\lib\\site-packages (from ipython>=7.23.1->ipykernel>=6.5.0->jupyterlab<5.0.0a0,>=4.1.0->jupyterlab-lsp) (3.0.48)\n",
      "Requirement already satisfied: pygments>=2.4.0 in \\\\mdc-berlin.net\\fs\\homes\\algarci\\mini\\envs\\keypoint_moseq\\lib\\site-packages (from ipython>=7.23.1->ipykernel>=6.5.0->jupyterlab<5.0.0a0,>=4.1.0->jupyterlab-lsp) (2.18.0)\n",
      "Requirement already satisfied: stack-data in \\\\mdc-berlin.net\\fs\\homes\\algarci\\mini\\envs\\keypoint_moseq\\lib\\site-packages (from ipython>=7.23.1->ipykernel>=6.5.0->jupyterlab<5.0.0a0,>=4.1.0->jupyterlab-lsp) (0.6.3)\n",
      "Requirement already satisfied: colorama in \\\\mdc-berlin.net\\fs\\homes\\algarci\\mini\\envs\\keypoint_moseq\\lib\\site-packages (from ipython>=7.23.1->ipykernel>=6.5.0->jupyterlab<5.0.0a0,>=4.1.0->jupyterlab-lsp) (0.4.6)\n",
      "Requirement already satisfied: attrs>=22.2.0 in \\\\mdc-berlin.net\\fs\\homes\\algarci\\mini\\envs\\keypoint_moseq\\lib\\site-packages (from jsonschema>=4.18.0->jupyterlab-server<3,>=2.27.1->jupyterlab<5.0.0a0,>=4.1.0->jupyterlab-lsp) (24.2.0)\n",
      "Requirement already satisfied: jsonschema-specifications>=2023.03.6 in \\\\mdc-berlin.net\\fs\\homes\\algarci\\mini\\envs\\keypoint_moseq\\lib\\site-packages (from jsonschema>=4.18.0->jupyterlab-server<3,>=2.27.1->jupyterlab<5.0.0a0,>=4.1.0->jupyterlab-lsp) (2024.10.1)\n",
      "Requirement already satisfied: referencing>=0.28.4 in \\\\mdc-berlin.net\\fs\\homes\\algarci\\mini\\envs\\keypoint_moseq\\lib\\site-packages (from jsonschema>=4.18.0->jupyterlab-server<3,>=2.27.1->jupyterlab<5.0.0a0,>=4.1.0->jupyterlab-lsp) (0.35.1)\n",
      "Requirement already satisfied: rpds-py>=0.7.1 in \\\\mdc-berlin.net\\fs\\homes\\algarci\\mini\\envs\\keypoint_moseq\\lib\\site-packages (from jsonschema>=4.18.0->jupyterlab-server<3,>=2.27.1->jupyterlab<5.0.0a0,>=4.1.0->jupyterlab-lsp) (0.22.3)\n",
      "Requirement already satisfied: python-dateutil>=2.8.2 in \\\\mdc-berlin.net\\fs\\homes\\algarci\\mini\\envs\\keypoint_moseq\\lib\\site-packages (from jupyter-client>=6.1.12->ipykernel>=6.5.0->jupyterlab<5.0.0a0,>=4.1.0->jupyterlab-lsp) (2.9.0.post0)\n",
      "Requirement already satisfied: python-json-logger>=2.0.4 in \\\\mdc-berlin.net\\fs\\homes\\algarci\\mini\\envs\\keypoint_moseq\\lib\\site-packages (from jupyter-events>=0.9.0->jupyter_server>=1.1.2->jupyter-lsp>=2.0.0->jupyterlab-lsp) (2.0.7)\n",
      "Requirement already satisfied: pyyaml>=5.3 in \\\\mdc-berlin.net\\fs\\homes\\algarci\\mini\\envs\\keypoint_moseq\\lib\\site-packages (from jupyter-events>=0.9.0->jupyter_server>=1.1.2->jupyter-lsp>=2.0.0->jupyterlab-lsp) (6.0.2)\n",
      "Requirement already satisfied: rfc3339-validator in \\\\mdc-berlin.net\\fs\\homes\\algarci\\mini\\envs\\keypoint_moseq\\lib\\site-packages (from jupyter-events>=0.9.0->jupyter_server>=1.1.2->jupyter-lsp>=2.0.0->jupyterlab-lsp) (0.1.4)\n",
      "Requirement already satisfied: rfc3986-validator>=0.1.1 in \\\\mdc-berlin.net\\fs\\homes\\algarci\\mini\\envs\\keypoint_moseq\\lib\\site-packages (from jupyter-events>=0.9.0->jupyter_server>=1.1.2->jupyter-lsp>=2.0.0->jupyterlab-lsp) (0.1.1)\n",
      "Requirement already satisfied: beautifulsoup4 in \\\\mdc-berlin.net\\fs\\homes\\algarci\\mini\\envs\\keypoint_moseq\\lib\\site-packages (from nbconvert>=6.4.4->jupyter_server>=1.1.2->jupyter-lsp>=2.0.0->jupyterlab-lsp) (4.12.3)\n",
      "Requirement already satisfied: bleach!=5.0.0 in \\\\mdc-berlin.net\\fs\\homes\\algarci\\mini\\envs\\keypoint_moseq\\lib\\site-packages (from nbconvert>=6.4.4->jupyter_server>=1.1.2->jupyter-lsp>=2.0.0->jupyterlab-lsp) (6.2.0)\n",
      "Requirement already satisfied: defusedxml in \\\\mdc-berlin.net\\fs\\homes\\algarci\\mini\\envs\\keypoint_moseq\\lib\\site-packages (from nbconvert>=6.4.4->jupyter_server>=1.1.2->jupyter-lsp>=2.0.0->jupyterlab-lsp) (0.7.1)\n",
      "Requirement already satisfied: jupyterlab-pygments in \\\\mdc-berlin.net\\fs\\homes\\algarci\\mini\\envs\\keypoint_moseq\\lib\\site-packages (from nbconvert>=6.4.4->jupyter_server>=1.1.2->jupyter-lsp>=2.0.0->jupyterlab-lsp) (0.3.0)\n",
      "Requirement already satisfied: mistune<4,>=2.0.3 in \\\\mdc-berlin.net\\fs\\homes\\algarci\\mini\\envs\\keypoint_moseq\\lib\\site-packages (from nbconvert>=6.4.4->jupyter_server>=1.1.2->jupyter-lsp>=2.0.0->jupyterlab-lsp) (3.0.2)\n",
      "Requirement already satisfied: nbclient>=0.5.0 in \\\\mdc-berlin.net\\fs\\homes\\algarci\\mini\\envs\\keypoint_moseq\\lib\\site-packages (from nbconvert>=6.4.4->jupyter_server>=1.1.2->jupyter-lsp>=2.0.0->jupyterlab-lsp) (0.10.1)\n",
      "Requirement already satisfied: pandocfilters>=1.4.1 in \\\\mdc-berlin.net\\fs\\homes\\algarci\\mini\\envs\\keypoint_moseq\\lib\\site-packages (from nbconvert>=6.4.4->jupyter_server>=1.1.2->jupyter-lsp>=2.0.0->jupyterlab-lsp) (1.5.0)\n",
      "Requirement already satisfied: tinycss2 in \\\\mdc-berlin.net\\fs\\homes\\algarci\\mini\\envs\\keypoint_moseq\\lib\\site-packages (from nbconvert>=6.4.4->jupyter_server>=1.1.2->jupyter-lsp>=2.0.0->jupyterlab-lsp) (1.4.0)\n",
      "Requirement already satisfied: fastjsonschema>=2.15 in \\\\mdc-berlin.net\\fs\\homes\\algarci\\mini\\envs\\keypoint_moseq\\lib\\site-packages (from nbformat>=5.3.0->jupyter_server>=1.1.2->jupyter-lsp>=2.0.0->jupyterlab-lsp) (2.21.1)\n",
      "Requirement already satisfied: charset_normalizer<4,>=2 in \\\\mdc-berlin.net\\fs\\homes\\algarci\\mini\\envs\\keypoint_moseq\\lib\\site-packages (from requests>=2.31->jupyterlab-server<3,>=2.27.1->jupyterlab<5.0.0a0,>=4.1.0->jupyterlab-lsp) (3.4.0)\n",
      "Requirement already satisfied: urllib3<3,>=1.21.1 in \\\\mdc-berlin.net\\fs\\homes\\algarci\\mini\\envs\\keypoint_moseq\\lib\\site-packages (from requests>=2.31->jupyterlab-server<3,>=2.27.1->jupyterlab<5.0.0a0,>=4.1.0->jupyterlab-lsp) (2.2.3)\n",
      "Requirement already satisfied: webencodings in \\\\mdc-berlin.net\\fs\\homes\\algarci\\mini\\envs\\keypoint_moseq\\lib\\site-packages (from bleach!=5.0.0->nbconvert>=6.4.4->jupyter_server>=1.1.2->jupyter-lsp>=2.0.0->jupyterlab-lsp) (0.5.1)\n",
      "Requirement already satisfied: fqdn in \\\\mdc-berlin.net\\fs\\homes\\algarci\\mini\\envs\\keypoint_moseq\\lib\\site-packages (from jsonschema[format-nongpl]>=4.18.0->jupyter-events>=0.9.0->jupyter_server>=1.1.2->jupyter-lsp>=2.0.0->jupyterlab-lsp) (1.5.1)\n",
      "Requirement already satisfied: isoduration in \\\\mdc-berlin.net\\fs\\homes\\algarci\\mini\\envs\\keypoint_moseq\\lib\\site-packages (from jsonschema[format-nongpl]>=4.18.0->jupyter-events>=0.9.0->jupyter_server>=1.1.2->jupyter-lsp>=2.0.0->jupyterlab-lsp) (20.11.0)\n",
      "Requirement already satisfied: jsonpointer>1.13 in \\\\mdc-berlin.net\\fs\\homes\\algarci\\mini\\envs\\keypoint_moseq\\lib\\site-packages (from jsonschema[format-nongpl]>=4.18.0->jupyter-events>=0.9.0->jupyter_server>=1.1.2->jupyter-lsp>=2.0.0->jupyterlab-lsp) (3.0.0)\n",
      "Requirement already satisfied: uri-template in \\\\mdc-berlin.net\\fs\\homes\\algarci\\mini\\envs\\keypoint_moseq\\lib\\site-packages (from jsonschema[format-nongpl]>=4.18.0->jupyter-events>=0.9.0->jupyter_server>=1.1.2->jupyter-lsp>=2.0.0->jupyterlab-lsp) (1.3.0)\n",
      "Requirement already satisfied: webcolors>=24.6.0 in \\\\mdc-berlin.net\\fs\\homes\\algarci\\mini\\envs\\keypoint_moseq\\lib\\site-packages (from jsonschema[format-nongpl]>=4.18.0->jupyter-events>=0.9.0->jupyter_server>=1.1.2->jupyter-lsp>=2.0.0->jupyterlab-lsp) (24.11.1)\n",
      "Requirement already satisfied: wcwidth in \\\\mdc-berlin.net\\fs\\homes\\algarci\\mini\\envs\\keypoint_moseq\\lib\\site-packages (from prompt-toolkit<3.1.0,>=3.0.41->ipython>=7.23.1->ipykernel>=6.5.0->jupyterlab<5.0.0a0,>=4.1.0->jupyterlab-lsp) (0.2.13)\n",
      "Requirement already satisfied: six>=1.5 in \\\\mdc-berlin.net\\fs\\homes\\algarci\\mini\\envs\\keypoint_moseq\\lib\\site-packages (from python-dateutil>=2.8.2->jupyter-client>=6.1.12->ipykernel>=6.5.0->jupyterlab<5.0.0a0,>=4.1.0->jupyterlab-lsp) (1.17.0)\n",
      "Requirement already satisfied: cffi>=1.0.1 in \\\\mdc-berlin.net\\fs\\homes\\algarci\\mini\\envs\\keypoint_moseq\\lib\\site-packages (from argon2-cffi-bindings->argon2-cffi>=21.1->jupyter_server>=1.1.2->jupyter-lsp>=2.0.0->jupyterlab-lsp) (1.17.1)\n",
      "Requirement already satisfied: soupsieve>1.2 in \\\\mdc-berlin.net\\fs\\homes\\algarci\\mini\\envs\\keypoint_moseq\\lib\\site-packages (from beautifulsoup4->nbconvert>=6.4.4->jupyter_server>=1.1.2->jupyter-lsp>=2.0.0->jupyterlab-lsp) (2.5)\n",
      "Requirement already satisfied: executing>=1.2.0 in \\\\mdc-berlin.net\\fs\\homes\\algarci\\mini\\envs\\keypoint_moseq\\lib\\site-packages (from stack-data->ipython>=7.23.1->ipykernel>=6.5.0->jupyterlab<5.0.0a0,>=4.1.0->jupyterlab-lsp) (2.1.0)\n",
      "Requirement already satisfied: asttokens>=2.1.0 in \\\\mdc-berlin.net\\fs\\homes\\algarci\\mini\\envs\\keypoint_moseq\\lib\\site-packages (from stack-data->ipython>=7.23.1->ipykernel>=6.5.0->jupyterlab<5.0.0a0,>=4.1.0->jupyterlab-lsp) (3.0.0)\n",
      "Requirement already satisfied: pure_eval in \\\\mdc-berlin.net\\fs\\homes\\algarci\\mini\\envs\\keypoint_moseq\\lib\\site-packages (from stack-data->ipython>=7.23.1->ipykernel>=6.5.0->jupyterlab<5.0.0a0,>=4.1.0->jupyterlab-lsp) (0.2.3)\n",
      "Requirement already satisfied: pycparser in \\\\mdc-berlin.net\\fs\\homes\\algarci\\mini\\envs\\keypoint_moseq\\lib\\site-packages (from cffi>=1.0.1->argon2-cffi-bindings->argon2-cffi>=21.1->jupyter_server>=1.1.2->jupyter-lsp>=2.0.0->jupyterlab-lsp) (2.22)\n",
      "Requirement already satisfied: arrow>=0.15.0 in \\\\mdc-berlin.net\\fs\\homes\\algarci\\mini\\envs\\keypoint_moseq\\lib\\site-packages (from isoduration->jsonschema[format-nongpl]>=4.18.0->jupyter-events>=0.9.0->jupyter_server>=1.1.2->jupyter-lsp>=2.0.0->jupyterlab-lsp) (1.3.0)\n",
      "Requirement already satisfied: types-python-dateutil>=2.8.10 in \\\\mdc-berlin.net\\fs\\homes\\algarci\\mini\\envs\\keypoint_moseq\\lib\\site-packages (from arrow>=0.15.0->isoduration->jsonschema[format-nongpl]>=4.18.0->jupyter-events>=0.9.0->jupyter_server>=1.1.2->jupyter-lsp>=2.0.0->jupyterlab-lsp) (2.9.0.20241206)\n",
      "Note: you may need to restart the kernel to use updated packages.\n"
     ]
    }
   ],
   "source": [
    "pip install jupyterlab-lsp python-lsp-server \n"
   ]
  },
  {
   "cell_type": "code",
   "execution_count": 1,
   "id": "303b8b64-908e-420b-b7b1-e8dd52c0bcdd",
   "metadata": {},
   "outputs": [
    {
     "name": "stdout",
     "output_type": "stream",
     "text": [
      "Collecting pylsp-rope\n",
      "  Downloading pylsp_rope-0.1.17-py3-none-any.whl.metadata (6.7 kB)\n",
      "Requirement already satisfied: python-lsp-server in \\\\mdc-berlin.net\\fs\\homes\\algarci\\mini\\envs\\keypoint_moseq\\lib\\site-packages (from pylsp-rope) (1.12.0)\n",
      "Collecting rope>=0.21.0 (from pylsp-rope)\n",
      "  Downloading rope-1.13.0-py3-none-any.whl.metadata (6.6 kB)\n",
      "Requirement already satisfied: typing-extensions in \\\\mdc-berlin.net\\fs\\homes\\algarci\\mini\\envs\\keypoint_moseq\\lib\\site-packages (from pylsp-rope) (4.12.2)\n",
      "Collecting pytoolconfig>=1.2.2 (from pytoolconfig[global]>=1.2.2->rope>=0.21.0->pylsp-rope)\n",
      "  Downloading pytoolconfig-1.3.1-py3-none-any.whl.metadata (1.4 kB)\n",
      "Requirement already satisfied: docstring-to-markdown in \\\\mdc-berlin.net\\fs\\homes\\algarci\\mini\\envs\\keypoint_moseq\\lib\\site-packages (from python-lsp-server->pylsp-rope) (0.15)\n",
      "Requirement already satisfied: jedi<0.20.0,>=0.17.2 in \\\\mdc-berlin.net\\fs\\homes\\algarci\\mini\\envs\\keypoint_moseq\\lib\\site-packages (from python-lsp-server->pylsp-rope) (0.19.2)\n",
      "Requirement already satisfied: pluggy>=1.0.0 in \\\\mdc-berlin.net\\fs\\homes\\algarci\\mini\\envs\\keypoint_moseq\\lib\\site-packages (from python-lsp-server->pylsp-rope) (1.5.0)\n",
      "Requirement already satisfied: python-lsp-jsonrpc<2.0.0,>=1.1.0 in \\\\mdc-berlin.net\\fs\\homes\\algarci\\mini\\envs\\keypoint_moseq\\lib\\site-packages (from python-lsp-server->pylsp-rope) (1.1.2)\n",
      "Requirement already satisfied: ujson>=3.0.0 in \\\\mdc-berlin.net\\fs\\homes\\algarci\\mini\\envs\\keypoint_moseq\\lib\\site-packages (from python-lsp-server->pylsp-rope) (5.10.0)\n",
      "Requirement already satisfied: importlib-metadata>=4.8.3 in \\\\mdc-berlin.net\\fs\\homes\\algarci\\mini\\envs\\keypoint_moseq\\lib\\site-packages (from python-lsp-server->pylsp-rope) (8.5.0)\n",
      "Requirement already satisfied: zipp>=3.20 in \\\\mdc-berlin.net\\fs\\homes\\algarci\\mini\\envs\\keypoint_moseq\\lib\\site-packages (from importlib-metadata>=4.8.3->python-lsp-server->pylsp-rope) (3.21.0)\n",
      "Requirement already satisfied: parso<0.9.0,>=0.8.4 in \\\\mdc-berlin.net\\fs\\homes\\algarci\\mini\\envs\\keypoint_moseq\\lib\\site-packages (from jedi<0.20.0,>=0.17.2->python-lsp-server->pylsp-rope) (0.8.4)\n",
      "Requirement already satisfied: tomli>=2.0.1 in \\\\mdc-berlin.net\\fs\\homes\\algarci\\mini\\envs\\keypoint_moseq\\lib\\site-packages (from pytoolconfig>=1.2.2->pytoolconfig[global]>=1.2.2->rope>=0.21.0->pylsp-rope) (2.2.1)\n",
      "Requirement already satisfied: packaging>=23.2 in \\\\mdc-berlin.net\\fs\\homes\\algarci\\mini\\envs\\keypoint_moseq\\lib\\site-packages (from pytoolconfig>=1.2.2->pytoolconfig[global]>=1.2.2->rope>=0.21.0->pylsp-rope) (24.2)\n",
      "Requirement already satisfied: platformdirs>=3.11.0 in \\\\mdc-berlin.net\\fs\\homes\\algarci\\mini\\envs\\keypoint_moseq\\lib\\site-packages (from pytoolconfig[global]>=1.2.2->rope>=0.21.0->pylsp-rope) (4.3.6)\n",
      "Downloading pylsp_rope-0.1.17-py3-none-any.whl (14 kB)\n",
      "Downloading rope-1.13.0-py3-none-any.whl (206 kB)\n",
      "Downloading pytoolconfig-1.3.1-py3-none-any.whl (17 kB)\n",
      "Installing collected packages: pytoolconfig, rope, pylsp-rope\n",
      "Successfully installed pylsp-rope-0.1.17 pytoolconfig-1.3.1 rope-1.13.0\n",
      "Note: you may need to restart the kernel to use updated packages.\n"
     ]
    }
   ],
   "source": [
    "pip install pylsp-rope\n"
   ]
  },
  {
   "cell_type": "code",
   "execution_count": 2,
   "id": "e68385df-01f8-4782-9ac6-1118e0dd5032",
   "metadata": {},
   "outputs": [
    {
     "name": "stdout",
     "output_type": "stream",
     "text": [
      "Name: jupyterlab-lsp\n",
      "Version: 5.1.0\n",
      "Summary: Coding assistance for JupyterLab with Language Server Protocol\n",
      "Home-page: \n",
      "Author: JupyterLab-LSP Development Team\n",
      "Author-email: project.jupyter@gmail.com\n",
      "License: BSD-3-Clause\n",
      "Location: \\\\mdc-berlin.net\\fs\\homes\\algarci\\mini\\envs\\keypoint_moseq\\lib\\site-packages\n",
      "Requires: jupyter-lsp, jupyterlab\n",
      "Required-by: \n",
      "---\n",
      "Name: python-lsp-server\n",
      "Version: 1.12.0\n",
      "Summary: Python Language Server for the Language Server Protocol\n",
      "Home-page: https://github.com/python-lsp/python-lsp-server\n",
      "Author: Python Language Server Contributors\n",
      "Author-email: \n",
      "License: MIT\n",
      "Location: \\\\mdc-berlin.net\\fs\\homes\\algarci\\mini\\envs\\keypoint_moseq\\lib\\site-packages\n",
      "Requires: docstring-to-markdown, importlib-metadata, jedi, pluggy, python-lsp-jsonrpc, ujson\n",
      "Required-by: pylsp-rope\n",
      "Note: you may need to restart the kernel to use updated packages.\n"
     ]
    }
   ],
   "source": [
    "pip show jupyterlab-lsp python-lsp-server"
   ]
  },
  {
   "cell_type": "code",
   "execution_count": 1,
   "id": "1da83ce1-4b48-4cff-a387-9bce8990db2b",
   "metadata": {},
   "outputs": [
    {
     "name": "stderr",
     "output_type": "stream",
     "text": [
      "Config dir: C:\\Users\\algarci\\.jupyter\n",
      "\n",
      "Config dir: K:\\mini\\envs\\keypoint_moseq\\etc\\jupyter\n",
      "    jupyter_lsp enabled\n",
      "    - Validating jupyter_lsp...\n",
      "Extension package jupyter_lsp took 0.1557s to import\n",
      "      jupyter_lsp 2.2.5 ok\n",
      "    jupyter_server_terminals enabled\n",
      "    - Validating jupyter_server_terminals...\n",
      "      jupyter_server_terminals 0.5.3 ok\n",
      "    jupyterlab enabled\n",
      "    - Validating jupyterlab...\n",
      "Extension package jupyterlab took 0.8725s to import\n",
      "      jupyterlab 4.3.3 ok\n",
      "    notebook enabled\n",
      "    - Validating notebook...\n",
      "      notebook 7.3.1 ok\n",
      "    notebook_shim enabled\n",
      "    - Validating notebook_shim...\n",
      "      notebook_shim  ok\n",
      "    panel.io.jupyter_server_extension enabled\n",
      "    - Validating panel.io.jupyter_server_extension...\n",
      "Extension package panel.io.jupyter_server_extension took 4.8425s to import\n",
      "      panel.io.jupyter_server_extension  ok\n",
      "\n",
      "Config dir: C:\\ProgramData\\jupyter\n",
      "\n"
     ]
    }
   ],
   "source": [
    "!jupyter server extension list\n"
   ]
  },
  {
   "cell_type": "code",
   "execution_count": null,
   "id": "dd4e3679-5fc6-43be-9fc1-49d5d1a42c6b",
   "metadata": {},
   "outputs": [],
   "source": []
  }
 ],
 "metadata": {
  "kernelspec": {
   "display_name": "Python 3 (ipykernel)",
   "language": "python",
   "name": "python3"
  },
  "language_info": {
   "codemirror_mode": {
    "name": "ipython",
    "version": 3
   },
   "file_extension": ".py",
   "mimetype": "text/x-python",
   "name": "python",
   "nbconvert_exporter": "python",
   "pygments_lexer": "ipython3",
   "version": "3.9.21"
  }
 },
 "nbformat": 4,
 "nbformat_minor": 5
}
